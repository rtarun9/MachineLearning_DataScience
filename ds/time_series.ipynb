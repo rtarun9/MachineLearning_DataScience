{
 "cells": [
  {
   "attachments": {},
   "cell_type": "markdown",
   "metadata": {},
   "source": [
    "# Working with Time Series Data"
   ]
  },
  {
   "cell_type": "code",
   "execution_count": 2,
   "metadata": {},
   "outputs": [],
   "source": [
    "import pandas as pd\n",
    "import numpy as np\n"
   ]
  },
  {
   "cell_type": "code",
   "execution_count": 3,
   "metadata": {},
   "outputs": [
    {
     "data": {
      "text/html": [
       "<div>\n",
       "<style scoped>\n",
       "    .dataframe tbody tr th:only-of-type {\n",
       "        vertical-align: middle;\n",
       "    }\n",
       "\n",
       "    .dataframe tbody tr th {\n",
       "        vertical-align: top;\n",
       "    }\n",
       "\n",
       "    .dataframe thead th {\n",
       "        text-align: right;\n",
       "    }\n",
       "</style>\n",
       "<table border=\"1\" class=\"dataframe\">\n",
       "  <thead>\n",
       "    <tr style=\"text-align: right;\">\n",
       "      <th></th>\n",
       "      <th>Fremont Bridge Total</th>\n",
       "      <th>Fremont Bridge East Sidewalk</th>\n",
       "      <th>Fremont Bridge West Sidewalk</th>\n",
       "    </tr>\n",
       "    <tr>\n",
       "      <th>Date</th>\n",
       "      <th></th>\n",
       "      <th></th>\n",
       "      <th></th>\n",
       "    </tr>\n",
       "  </thead>\n",
       "  <tbody>\n",
       "    <tr>\n",
       "      <th>2022-08-01 00:00:00</th>\n",
       "      <td>23.0</td>\n",
       "      <td>7.0</td>\n",
       "      <td>16.0</td>\n",
       "    </tr>\n",
       "    <tr>\n",
       "      <th>2022-08-01 01:00:00</th>\n",
       "      <td>12.0</td>\n",
       "      <td>5.0</td>\n",
       "      <td>7.0</td>\n",
       "    </tr>\n",
       "    <tr>\n",
       "      <th>2022-08-01 02:00:00</th>\n",
       "      <td>3.0</td>\n",
       "      <td>0.0</td>\n",
       "      <td>3.0</td>\n",
       "    </tr>\n",
       "    <tr>\n",
       "      <th>2022-08-01 03:00:00</th>\n",
       "      <td>5.0</td>\n",
       "      <td>2.0</td>\n",
       "      <td>3.0</td>\n",
       "    </tr>\n",
       "    <tr>\n",
       "      <th>2022-08-01 04:00:00</th>\n",
       "      <td>10.0</td>\n",
       "      <td>2.0</td>\n",
       "      <td>8.0</td>\n",
       "    </tr>\n",
       "    <tr>\n",
       "      <th>...</th>\n",
       "      <td>...</td>\n",
       "      <td>...</td>\n",
       "      <td>...</td>\n",
       "    </tr>\n",
       "    <tr>\n",
       "      <th>2022-09-30 19:00:00</th>\n",
       "      <td>168.0</td>\n",
       "      <td>57.0</td>\n",
       "      <td>111.0</td>\n",
       "    </tr>\n",
       "    <tr>\n",
       "      <th>2022-09-30 20:00:00</th>\n",
       "      <td>73.0</td>\n",
       "      <td>33.0</td>\n",
       "      <td>40.0</td>\n",
       "    </tr>\n",
       "    <tr>\n",
       "      <th>2022-09-30 21:00:00</th>\n",
       "      <td>69.0</td>\n",
       "      <td>30.0</td>\n",
       "      <td>39.0</td>\n",
       "    </tr>\n",
       "    <tr>\n",
       "      <th>2022-09-30 22:00:00</th>\n",
       "      <td>51.0</td>\n",
       "      <td>10.0</td>\n",
       "      <td>41.0</td>\n",
       "    </tr>\n",
       "    <tr>\n",
       "      <th>2022-09-30 23:00:00</th>\n",
       "      <td>59.0</td>\n",
       "      <td>22.0</td>\n",
       "      <td>37.0</td>\n",
       "    </tr>\n",
       "  </tbody>\n",
       "</table>\n",
       "<p>87600 rows × 3 columns</p>\n",
       "</div>"
      ],
      "text/plain": [
       "                     Fremont Bridge Total  Fremont Bridge East Sidewalk  \\\n",
       "Date                                                                      \n",
       "2022-08-01 00:00:00                  23.0                           7.0   \n",
       "2022-08-01 01:00:00                  12.0                           5.0   \n",
       "2022-08-01 02:00:00                   3.0                           0.0   \n",
       "2022-08-01 03:00:00                   5.0                           2.0   \n",
       "2022-08-01 04:00:00                  10.0                           2.0   \n",
       "...                                   ...                           ...   \n",
       "2022-09-30 19:00:00                 168.0                          57.0   \n",
       "2022-09-30 20:00:00                  73.0                          33.0   \n",
       "2022-09-30 21:00:00                  69.0                          30.0   \n",
       "2022-09-30 22:00:00                  51.0                          10.0   \n",
       "2022-09-30 23:00:00                  59.0                          22.0   \n",
       "\n",
       "                     Fremont Bridge West Sidewalk  \n",
       "Date                                               \n",
       "2022-08-01 00:00:00                          16.0  \n",
       "2022-08-01 01:00:00                           7.0  \n",
       "2022-08-01 02:00:00                           3.0  \n",
       "2022-08-01 03:00:00                           3.0  \n",
       "2022-08-01 04:00:00                           8.0  \n",
       "...                                           ...  \n",
       "2022-09-30 19:00:00                         111.0  \n",
       "2022-09-30 20:00:00                          40.0  \n",
       "2022-09-30 21:00:00                          39.0  \n",
       "2022-09-30 22:00:00                          41.0  \n",
       "2022-09-30 23:00:00                          37.0  \n",
       "\n",
       "[87600 rows x 3 columns]"
      ]
     },
     "execution_count": 3,
     "metadata": {},
     "output_type": "execute_result"
    }
   ],
   "source": [
    "df = pd.read_csv('../data_sets/Fremont_Bridge_Bicycle_Counter.csv', index_col='Date', parse_dates=True)\n",
    "df"
   ]
  },
  {
   "attachments": {},
   "cell_type": "markdown",
   "metadata": {},
   "source": [
    "Index By Time"
   ]
  },
  {
   "cell_type": "code",
   "execution_count": 4,
   "metadata": {},
   "outputs": [
    {
     "data": {
      "text/html": [
       "<div>\n",
       "<style scoped>\n",
       "    .dataframe tbody tr th:only-of-type {\n",
       "        vertical-align: middle;\n",
       "    }\n",
       "\n",
       "    .dataframe tbody tr th {\n",
       "        vertical-align: top;\n",
       "    }\n",
       "\n",
       "    .dataframe thead th {\n",
       "        text-align: right;\n",
       "    }\n",
       "</style>\n",
       "<table border=\"1\" class=\"dataframe\">\n",
       "  <thead>\n",
       "    <tr style=\"text-align: right;\">\n",
       "      <th></th>\n",
       "      <th>Fremont Bridge Total</th>\n",
       "      <th>Fremont Bridge East Sidewalk</th>\n",
       "      <th>Fremont Bridge West Sidewalk</th>\n",
       "    </tr>\n",
       "    <tr>\n",
       "      <th>Date</th>\n",
       "      <th></th>\n",
       "      <th></th>\n",
       "      <th></th>\n",
       "    </tr>\n",
       "  </thead>\n",
       "  <tbody>\n",
       "    <tr>\n",
       "      <th>2022-09-30 00:00:00</th>\n",
       "      <td>12.0</td>\n",
       "      <td>4.0</td>\n",
       "      <td>8.0</td>\n",
       "    </tr>\n",
       "    <tr>\n",
       "      <th>2022-09-30 01:00:00</th>\n",
       "      <td>5.0</td>\n",
       "      <td>1.0</td>\n",
       "      <td>4.0</td>\n",
       "    </tr>\n",
       "    <tr>\n",
       "      <th>2022-09-30 02:00:00</th>\n",
       "      <td>5.0</td>\n",
       "      <td>3.0</td>\n",
       "      <td>2.0</td>\n",
       "    </tr>\n",
       "    <tr>\n",
       "      <th>2022-09-30 03:00:00</th>\n",
       "      <td>0.0</td>\n",
       "      <td>0.0</td>\n",
       "      <td>0.0</td>\n",
       "    </tr>\n",
       "    <tr>\n",
       "      <th>2022-09-30 04:00:00</th>\n",
       "      <td>5.0</td>\n",
       "      <td>3.0</td>\n",
       "      <td>2.0</td>\n",
       "    </tr>\n",
       "    <tr>\n",
       "      <th>2022-09-30 05:00:00</th>\n",
       "      <td>26.0</td>\n",
       "      <td>12.0</td>\n",
       "      <td>14.0</td>\n",
       "    </tr>\n",
       "    <tr>\n",
       "      <th>2022-09-30 06:00:00</th>\n",
       "      <td>67.0</td>\n",
       "      <td>29.0</td>\n",
       "      <td>38.0</td>\n",
       "    </tr>\n",
       "    <tr>\n",
       "      <th>2022-09-30 07:00:00</th>\n",
       "      <td>183.0</td>\n",
       "      <td>73.0</td>\n",
       "      <td>110.0</td>\n",
       "    </tr>\n",
       "    <tr>\n",
       "      <th>2022-09-30 08:00:00</th>\n",
       "      <td>246.0</td>\n",
       "      <td>91.0</td>\n",
       "      <td>155.0</td>\n",
       "    </tr>\n",
       "    <tr>\n",
       "      <th>2022-09-30 09:00:00</th>\n",
       "      <td>165.0</td>\n",
       "      <td>74.0</td>\n",
       "      <td>91.0</td>\n",
       "    </tr>\n",
       "    <tr>\n",
       "      <th>2022-09-30 10:00:00</th>\n",
       "      <td>102.0</td>\n",
       "      <td>43.0</td>\n",
       "      <td>59.0</td>\n",
       "    </tr>\n",
       "    <tr>\n",
       "      <th>2022-09-30 11:00:00</th>\n",
       "      <td>112.0</td>\n",
       "      <td>40.0</td>\n",
       "      <td>72.0</td>\n",
       "    </tr>\n",
       "    <tr>\n",
       "      <th>2022-09-30 12:00:00</th>\n",
       "      <td>149.0</td>\n",
       "      <td>57.0</td>\n",
       "      <td>92.0</td>\n",
       "    </tr>\n",
       "    <tr>\n",
       "      <th>2022-09-30 13:00:00</th>\n",
       "      <td>134.0</td>\n",
       "      <td>61.0</td>\n",
       "      <td>73.0</td>\n",
       "    </tr>\n",
       "    <tr>\n",
       "      <th>2022-09-30 14:00:00</th>\n",
       "      <td>182.0</td>\n",
       "      <td>71.0</td>\n",
       "      <td>111.0</td>\n",
       "    </tr>\n",
       "    <tr>\n",
       "      <th>2022-09-30 15:00:00</th>\n",
       "      <td>258.0</td>\n",
       "      <td>116.0</td>\n",
       "      <td>142.0</td>\n",
       "    </tr>\n",
       "    <tr>\n",
       "      <th>2022-09-30 16:00:00</th>\n",
       "      <td>295.0</td>\n",
       "      <td>111.0</td>\n",
       "      <td>184.0</td>\n",
       "    </tr>\n",
       "    <tr>\n",
       "      <th>2022-09-30 17:00:00</th>\n",
       "      <td>410.0</td>\n",
       "      <td>172.0</td>\n",
       "      <td>238.0</td>\n",
       "    </tr>\n",
       "    <tr>\n",
       "      <th>2022-09-30 18:00:00</th>\n",
       "      <td>266.0</td>\n",
       "      <td>94.0</td>\n",
       "      <td>172.0</td>\n",
       "    </tr>\n",
       "    <tr>\n",
       "      <th>2022-09-30 19:00:00</th>\n",
       "      <td>168.0</td>\n",
       "      <td>57.0</td>\n",
       "      <td>111.0</td>\n",
       "    </tr>\n",
       "    <tr>\n",
       "      <th>2022-09-30 20:00:00</th>\n",
       "      <td>73.0</td>\n",
       "      <td>33.0</td>\n",
       "      <td>40.0</td>\n",
       "    </tr>\n",
       "    <tr>\n",
       "      <th>2022-09-30 21:00:00</th>\n",
       "      <td>69.0</td>\n",
       "      <td>30.0</td>\n",
       "      <td>39.0</td>\n",
       "    </tr>\n",
       "    <tr>\n",
       "      <th>2022-09-30 22:00:00</th>\n",
       "      <td>51.0</td>\n",
       "      <td>10.0</td>\n",
       "      <td>41.0</td>\n",
       "    </tr>\n",
       "    <tr>\n",
       "      <th>2022-09-30 23:00:00</th>\n",
       "      <td>59.0</td>\n",
       "      <td>22.0</td>\n",
       "      <td>37.0</td>\n",
       "    </tr>\n",
       "  </tbody>\n",
       "</table>\n",
       "</div>"
      ],
      "text/plain": [
       "                     Fremont Bridge Total  Fremont Bridge East Sidewalk  \\\n",
       "Date                                                                      \n",
       "2022-09-30 00:00:00                  12.0                           4.0   \n",
       "2022-09-30 01:00:00                   5.0                           1.0   \n",
       "2022-09-30 02:00:00                   5.0                           3.0   \n",
       "2022-09-30 03:00:00                   0.0                           0.0   \n",
       "2022-09-30 04:00:00                   5.0                           3.0   \n",
       "2022-09-30 05:00:00                  26.0                          12.0   \n",
       "2022-09-30 06:00:00                  67.0                          29.0   \n",
       "2022-09-30 07:00:00                 183.0                          73.0   \n",
       "2022-09-30 08:00:00                 246.0                          91.0   \n",
       "2022-09-30 09:00:00                 165.0                          74.0   \n",
       "2022-09-30 10:00:00                 102.0                          43.0   \n",
       "2022-09-30 11:00:00                 112.0                          40.0   \n",
       "2022-09-30 12:00:00                 149.0                          57.0   \n",
       "2022-09-30 13:00:00                 134.0                          61.0   \n",
       "2022-09-30 14:00:00                 182.0                          71.0   \n",
       "2022-09-30 15:00:00                 258.0                         116.0   \n",
       "2022-09-30 16:00:00                 295.0                         111.0   \n",
       "2022-09-30 17:00:00                 410.0                         172.0   \n",
       "2022-09-30 18:00:00                 266.0                          94.0   \n",
       "2022-09-30 19:00:00                 168.0                          57.0   \n",
       "2022-09-30 20:00:00                  73.0                          33.0   \n",
       "2022-09-30 21:00:00                  69.0                          30.0   \n",
       "2022-09-30 22:00:00                  51.0                          10.0   \n",
       "2022-09-30 23:00:00                  59.0                          22.0   \n",
       "\n",
       "                     Fremont Bridge West Sidewalk  \n",
       "Date                                               \n",
       "2022-09-30 00:00:00                           8.0  \n",
       "2022-09-30 01:00:00                           4.0  \n",
       "2022-09-30 02:00:00                           2.0  \n",
       "2022-09-30 03:00:00                           0.0  \n",
       "2022-09-30 04:00:00                           2.0  \n",
       "2022-09-30 05:00:00                          14.0  \n",
       "2022-09-30 06:00:00                          38.0  \n",
       "2022-09-30 07:00:00                         110.0  \n",
       "2022-09-30 08:00:00                         155.0  \n",
       "2022-09-30 09:00:00                          91.0  \n",
       "2022-09-30 10:00:00                          59.0  \n",
       "2022-09-30 11:00:00                          72.0  \n",
       "2022-09-30 12:00:00                          92.0  \n",
       "2022-09-30 13:00:00                          73.0  \n",
       "2022-09-30 14:00:00                         111.0  \n",
       "2022-09-30 15:00:00                         142.0  \n",
       "2022-09-30 16:00:00                         184.0  \n",
       "2022-09-30 17:00:00                         238.0  \n",
       "2022-09-30 18:00:00                         172.0  \n",
       "2022-09-30 19:00:00                         111.0  \n",
       "2022-09-30 20:00:00                          40.0  \n",
       "2022-09-30 21:00:00                          39.0  \n",
       "2022-09-30 22:00:00                          41.0  \n",
       "2022-09-30 23:00:00                          37.0  "
      ]
     },
     "execution_count": 4,
     "metadata": {},
     "output_type": "execute_result"
    }
   ],
   "source": [
    "df.loc['2022-09-30']"
   ]
  },
  {
   "attachments": {},
   "cell_type": "markdown",
   "metadata": {},
   "source": [
    "Resampling, Shifting and Windowing"
   ]
  },
  {
   "cell_type": "code",
   "execution_count": 5,
   "metadata": {},
   "outputs": [
    {
     "data": {
      "text/html": [
       "<div>\n",
       "<style scoped>\n",
       "    .dataframe tbody tr th:only-of-type {\n",
       "        vertical-align: middle;\n",
       "    }\n",
       "\n",
       "    .dataframe tbody tr th {\n",
       "        vertical-align: top;\n",
       "    }\n",
       "\n",
       "    .dataframe thead th {\n",
       "        text-align: right;\n",
       "    }\n",
       "</style>\n",
       "<table border=\"1\" class=\"dataframe\">\n",
       "  <thead>\n",
       "    <tr style=\"text-align: right;\">\n",
       "      <th></th>\n",
       "      <th>Fremont Bridge Total</th>\n",
       "      <th>Fremont Bridge East Sidewalk</th>\n",
       "      <th>Fremont Bridge West Sidewalk</th>\n",
       "    </tr>\n",
       "    <tr>\n",
       "      <th>Date</th>\n",
       "      <th></th>\n",
       "      <th></th>\n",
       "      <th></th>\n",
       "    </tr>\n",
       "  </thead>\n",
       "  <tbody>\n",
       "    <tr>\n",
       "      <th>2012-12-31</th>\n",
       "      <td>70.999532</td>\n",
       "      <td>36.447824</td>\n",
       "      <td>34.551708</td>\n",
       "    </tr>\n",
       "    <tr>\n",
       "      <th>2013-12-31</th>\n",
       "      <td>105.956035</td>\n",
       "      <td>54.680142</td>\n",
       "      <td>51.275894</td>\n",
       "    </tr>\n",
       "    <tr>\n",
       "      <th>2014-12-31</th>\n",
       "      <td>114.885261</td>\n",
       "      <td>58.832972</td>\n",
       "      <td>56.052289</td>\n",
       "    </tr>\n",
       "    <tr>\n",
       "      <th>2015-12-31</th>\n",
       "      <td>112.689163</td>\n",
       "      <td>57.221880</td>\n",
       "      <td>55.467283</td>\n",
       "    </tr>\n",
       "    <tr>\n",
       "      <th>2016-12-30</th>\n",
       "      <td>112.110058</td>\n",
       "      <td>53.442630</td>\n",
       "      <td>58.667428</td>\n",
       "    </tr>\n",
       "    <tr>\n",
       "      <th>2017-12-29</th>\n",
       "      <td>110.206525</td>\n",
       "      <td>47.195192</td>\n",
       "      <td>63.011334</td>\n",
       "    </tr>\n",
       "    <tr>\n",
       "      <th>2018-12-31</th>\n",
       "      <td>119.548995</td>\n",
       "      <td>48.390031</td>\n",
       "      <td>71.158964</td>\n",
       "    </tr>\n",
       "    <tr>\n",
       "      <th>2019-12-31</th>\n",
       "      <td>135.524946</td>\n",
       "      <td>51.365110</td>\n",
       "      <td>84.159836</td>\n",
       "    </tr>\n",
       "    <tr>\n",
       "      <th>2020-12-31</th>\n",
       "      <td>87.959581</td>\n",
       "      <td>36.867699</td>\n",
       "      <td>51.091882</td>\n",
       "    </tr>\n",
       "    <tr>\n",
       "      <th>2021-12-31</th>\n",
       "      <td>81.830803</td>\n",
       "      <td>33.846786</td>\n",
       "      <td>47.984016</td>\n",
       "    </tr>\n",
       "    <tr>\n",
       "      <th>2022-12-30</th>\n",
       "      <td>98.304381</td>\n",
       "      <td>39.835260</td>\n",
       "      <td>58.469121</td>\n",
       "    </tr>\n",
       "  </tbody>\n",
       "</table>\n",
       "</div>"
      ],
      "text/plain": [
       "            Fremont Bridge Total  Fremont Bridge East Sidewalk  \\\n",
       "Date                                                             \n",
       "2012-12-31             70.999532                     36.447824   \n",
       "2013-12-31            105.956035                     54.680142   \n",
       "2014-12-31            114.885261                     58.832972   \n",
       "2015-12-31            112.689163                     57.221880   \n",
       "2016-12-30            112.110058                     53.442630   \n",
       "2017-12-29            110.206525                     47.195192   \n",
       "2018-12-31            119.548995                     48.390031   \n",
       "2019-12-31            135.524946                     51.365110   \n",
       "2020-12-31             87.959581                     36.867699   \n",
       "2021-12-31             81.830803                     33.846786   \n",
       "2022-12-30             98.304381                     39.835260   \n",
       "\n",
       "            Fremont Bridge West Sidewalk  \n",
       "Date                                      \n",
       "2012-12-31                     34.551708  \n",
       "2013-12-31                     51.275894  \n",
       "2014-12-31                     56.052289  \n",
       "2015-12-31                     55.467283  \n",
       "2016-12-30                     58.667428  \n",
       "2017-12-29                     63.011334  \n",
       "2018-12-31                     71.158964  \n",
       "2019-12-31                     84.159836  \n",
       "2020-12-31                     51.091882  \n",
       "2021-12-31                     47.984016  \n",
       "2022-12-30                     58.469121  "
      ]
     },
     "execution_count": 5,
     "metadata": {},
     "output_type": "execute_result"
    }
   ],
   "source": [
    "# Resampling\n",
    "df.resample('BA').mean()"
   ]
  },
  {
   "cell_type": "code",
   "execution_count": 6,
   "metadata": {},
   "outputs": [
    {
     "data": {
      "text/html": [
       "<div>\n",
       "<style scoped>\n",
       "    .dataframe tbody tr th:only-of-type {\n",
       "        vertical-align: middle;\n",
       "    }\n",
       "\n",
       "    .dataframe tbody tr th {\n",
       "        vertical-align: top;\n",
       "    }\n",
       "\n",
       "    .dataframe thead th {\n",
       "        text-align: right;\n",
       "    }\n",
       "</style>\n",
       "<table border=\"1\" class=\"dataframe\">\n",
       "  <thead>\n",
       "    <tr style=\"text-align: right;\">\n",
       "      <th></th>\n",
       "      <th>Fremont Bridge Total</th>\n",
       "      <th>Fremont Bridge East Sidewalk</th>\n",
       "      <th>Fremont Bridge West Sidewalk</th>\n",
       "    </tr>\n",
       "    <tr>\n",
       "      <th>Date</th>\n",
       "      <th></th>\n",
       "      <th></th>\n",
       "      <th></th>\n",
       "    </tr>\n",
       "  </thead>\n",
       "  <tbody>\n",
       "    <tr>\n",
       "      <th>2022-08-01 00:00:00</th>\n",
       "      <td>NaN</td>\n",
       "      <td>NaN</td>\n",
       "      <td>NaN</td>\n",
       "    </tr>\n",
       "    <tr>\n",
       "      <th>2022-08-01 01:00:00</th>\n",
       "      <td>NaN</td>\n",
       "      <td>NaN</td>\n",
       "      <td>NaN</td>\n",
       "    </tr>\n",
       "    <tr>\n",
       "      <th>2022-08-01 02:00:00</th>\n",
       "      <td>NaN</td>\n",
       "      <td>NaN</td>\n",
       "      <td>NaN</td>\n",
       "    </tr>\n",
       "    <tr>\n",
       "      <th>2022-08-01 03:00:00</th>\n",
       "      <td>NaN</td>\n",
       "      <td>NaN</td>\n",
       "      <td>NaN</td>\n",
       "    </tr>\n",
       "    <tr>\n",
       "      <th>2022-08-01 04:00:00</th>\n",
       "      <td>NaN</td>\n",
       "      <td>NaN</td>\n",
       "      <td>NaN</td>\n",
       "    </tr>\n",
       "    <tr>\n",
       "      <th>...</th>\n",
       "      <td>...</td>\n",
       "      <td>...</td>\n",
       "      <td>...</td>\n",
       "    </tr>\n",
       "    <tr>\n",
       "      <th>2022-09-30 19:00:00</th>\n",
       "      <td>109.0</td>\n",
       "      <td>47.0</td>\n",
       "      <td>62.0</td>\n",
       "    </tr>\n",
       "    <tr>\n",
       "      <th>2022-09-30 20:00:00</th>\n",
       "      <td>146.0</td>\n",
       "      <td>58.0</td>\n",
       "      <td>88.0</td>\n",
       "    </tr>\n",
       "    <tr>\n",
       "      <th>2022-09-30 21:00:00</th>\n",
       "      <td>124.0</td>\n",
       "      <td>58.0</td>\n",
       "      <td>66.0</td>\n",
       "    </tr>\n",
       "    <tr>\n",
       "      <th>2022-09-30 22:00:00</th>\n",
       "      <td>122.0</td>\n",
       "      <td>43.0</td>\n",
       "      <td>79.0</td>\n",
       "    </tr>\n",
       "    <tr>\n",
       "      <th>2022-09-30 23:00:00</th>\n",
       "      <td>165.0</td>\n",
       "      <td>75.0</td>\n",
       "      <td>90.0</td>\n",
       "    </tr>\n",
       "  </tbody>\n",
       "</table>\n",
       "<p>87600 rows × 3 columns</p>\n",
       "</div>"
      ],
      "text/plain": [
       "                     Fremont Bridge Total  Fremont Bridge East Sidewalk  \\\n",
       "Date                                                                      \n",
       "2022-08-01 00:00:00                   NaN                           NaN   \n",
       "2022-08-01 01:00:00                   NaN                           NaN   \n",
       "2022-08-01 02:00:00                   NaN                           NaN   \n",
       "2022-08-01 03:00:00                   NaN                           NaN   \n",
       "2022-08-01 04:00:00                   NaN                           NaN   \n",
       "...                                   ...                           ...   \n",
       "2022-09-30 19:00:00                 109.0                          47.0   \n",
       "2022-09-30 20:00:00                 146.0                          58.0   \n",
       "2022-09-30 21:00:00                 124.0                          58.0   \n",
       "2022-09-30 22:00:00                 122.0                          43.0   \n",
       "2022-09-30 23:00:00                 165.0                          75.0   \n",
       "\n",
       "                     Fremont Bridge West Sidewalk  \n",
       "Date                                               \n",
       "2022-08-01 00:00:00                           NaN  \n",
       "2022-08-01 01:00:00                           NaN  \n",
       "2022-08-01 02:00:00                           NaN  \n",
       "2022-08-01 03:00:00                           NaN  \n",
       "2022-08-01 04:00:00                           NaN  \n",
       "...                                           ...  \n",
       "2022-09-30 19:00:00                          62.0  \n",
       "2022-09-30 20:00:00                          88.0  \n",
       "2022-09-30 21:00:00                          66.0  \n",
       "2022-09-30 22:00:00                          79.0  \n",
       "2022-09-30 23:00:00                          90.0  \n",
       "\n",
       "[87600 rows x 3 columns]"
      ]
     },
     "execution_count": 6,
     "metadata": {},
     "output_type": "execute_result"
    }
   ],
   "source": [
    "# Shifting\n",
    "df.shift(200)"
   ]
  },
  {
   "cell_type": "code",
   "execution_count": 7,
   "metadata": {},
   "outputs": [
    {
     "name": "stdout",
     "output_type": "stream",
     "text": [
      "Rolling mean :                       Fremont Bridge Total  Fremont Bridge East Sidewalk  \\\n",
      "Date                                                                      \n",
      "2022-08-01 00:00:00                   NaN                           NaN   \n",
      "2022-08-01 01:00:00                   NaN                           NaN   \n",
      "2022-08-01 02:00:00                   NaN                           NaN   \n",
      "2022-08-01 03:00:00                   NaN                           NaN   \n",
      "2022-08-01 04:00:00                   NaN                           NaN   \n",
      "...                                   ...                           ...   \n",
      "2022-09-30 19:00:00                   NaN                           NaN   \n",
      "2022-09-30 20:00:00                   NaN                           NaN   \n",
      "2022-09-30 21:00:00                   NaN                           NaN   \n",
      "2022-09-30 22:00:00                   NaN                           NaN   \n",
      "2022-09-30 23:00:00                   NaN                           NaN   \n",
      "\n",
      "                     Fremont Bridge West Sidewalk  \n",
      "Date                                               \n",
      "2022-08-01 00:00:00                           NaN  \n",
      "2022-08-01 01:00:00                           NaN  \n",
      "2022-08-01 02:00:00                           NaN  \n",
      "2022-08-01 03:00:00                           NaN  \n",
      "2022-08-01 04:00:00                           NaN  \n",
      "...                                           ...  \n",
      "2022-09-30 19:00:00                           NaN  \n",
      "2022-09-30 20:00:00                           NaN  \n",
      "2022-09-30 21:00:00                           NaN  \n",
      "2022-09-30 22:00:00                           NaN  \n",
      "2022-09-30 23:00:00                           NaN  \n",
      "\n",
      "[87600 rows x 3 columns]\n",
      "Rolling standard deviation :                      Fremont Bridge Total  Fremont Bridge East Sidewalk  \\\n",
      "Date                                                                      \n",
      "2022-08-01 00:00:00                   NaN                           NaN   \n",
      "2022-08-01 01:00:00                   NaN                           NaN   \n",
      "2022-08-01 02:00:00                   NaN                           NaN   \n",
      "2022-08-01 03:00:00                   NaN                           NaN   \n",
      "2022-08-01 04:00:00                   NaN                           NaN   \n",
      "...                                   ...                           ...   \n",
      "2022-09-30 19:00:00                   NaN                           NaN   \n",
      "2022-09-30 20:00:00                   NaN                           NaN   \n",
      "2022-09-30 21:00:00                   NaN                           NaN   \n",
      "2022-09-30 22:00:00                   NaN                           NaN   \n",
      "2022-09-30 23:00:00                   NaN                           NaN   \n",
      "\n",
      "                     Fremont Bridge West Sidewalk  \n",
      "Date                                               \n",
      "2022-08-01 00:00:00                           NaN  \n",
      "2022-08-01 01:00:00                           NaN  \n",
      "2022-08-01 02:00:00                           NaN  \n",
      "2022-08-01 03:00:00                           NaN  \n",
      "2022-08-01 04:00:00                           NaN  \n",
      "...                                           ...  \n",
      "2022-09-30 19:00:00                           NaN  \n",
      "2022-09-30 20:00:00                           NaN  \n",
      "2022-09-30 21:00:00                           NaN  \n",
      "2022-09-30 22:00:00                           NaN  \n",
      "2022-09-30 23:00:00                           NaN  \n",
      "\n",
      "[87600 rows x 3 columns]\n"
     ]
    }
   ],
   "source": [
    "# Windowing\n",
    "rolling = df.rolling(365, center=True)\n",
    "print(\"Rolling mean : \", rolling.mean())\n",
    "print(\"Rolling standard deviation :\", rolling.std())"
   ]
  },
  {
   "attachments": {},
   "cell_type": "markdown",
   "metadata": {},
   "source": [
    "Time Shifts (shift and tshift)"
   ]
  },
  {
   "cell_type": "code",
   "execution_count": 8,
   "metadata": {},
   "outputs": [
    {
     "data": {
      "text/plain": [
       "<AxesSubplot: xlabel='Date'>"
      ]
     },
     "execution_count": 8,
     "metadata": {},
     "output_type": "execute_result"
    },
    {
     "data": {
      "image/png": "[encoded data removed]",
      "text/plain": [
       "<Figure size 640x480 with 1 Axes>"
      ]
     },
     "metadata": {},
     "output_type": "display_data"
    }
   ],
   "source": [
    "# Shifting\n",
    "df.shift(200).plot()"
   ]
  },
  {
   "attachments": {},
   "cell_type": "markdown",
   "metadata": {},
   "source": [
    "Rolling Windows\n"
   ]
  },
  {
   "cell_type": "code",
   "execution_count": 9,
   "metadata": {},
   "outputs": [
    {
     "name": "stdout",
     "output_type": "stream",
     "text": [
      "Rolling mean :                       Fremont Bridge Total  Fremont Bridge East Sidewalk  \\\n",
      "Date                                                                      \n",
      "2022-08-01 00:00:00                   NaN                           NaN   \n",
      "2022-08-01 01:00:00                   NaN                           NaN   \n",
      "2022-08-01 02:00:00                   NaN                           NaN   \n",
      "2022-08-01 03:00:00                   NaN                           NaN   \n",
      "2022-08-01 04:00:00                   NaN                           NaN   \n",
      "...                                   ...                           ...   \n",
      "2022-09-30 19:00:00                   NaN                           NaN   \n",
      "2022-09-30 20:00:00                   NaN                           NaN   \n",
      "2022-09-30 21:00:00                   NaN                           NaN   \n",
      "2022-09-30 22:00:00                   NaN                           NaN   \n",
      "2022-09-30 23:00:00                   NaN                           NaN   \n",
      "\n",
      "                     Fremont Bridge West Sidewalk  \n",
      "Date                                               \n",
      "2022-08-01 00:00:00                           NaN  \n",
      "2022-08-01 01:00:00                           NaN  \n",
      "2022-08-01 02:00:00                           NaN  \n",
      "2022-08-01 03:00:00                           NaN  \n",
      "2022-08-01 04:00:00                           NaN  \n",
      "...                                           ...  \n",
      "2022-09-30 19:00:00                           NaN  \n",
      "2022-09-30 20:00:00                           NaN  \n",
      "2022-09-30 21:00:00                           NaN  \n",
      "2022-09-30 22:00:00                           NaN  \n",
      "2022-09-30 23:00:00                           NaN  \n",
      "\n",
      "[87600 rows x 3 columns]\n",
      "Rolling standard deviation :                      Fremont Bridge Total  Fremont Bridge East Sidewalk  \\\n",
      "Date                                                                      \n",
      "2022-08-01 00:00:00                   NaN                           NaN   \n",
      "2022-08-01 01:00:00                   NaN                           NaN   \n",
      "2022-08-01 02:00:00                   NaN                           NaN   \n",
      "2022-08-01 03:00:00                   NaN                           NaN   \n",
      "2022-08-01 04:00:00                   NaN                           NaN   \n",
      "...                                   ...                           ...   \n",
      "2022-09-30 19:00:00                   NaN                           NaN   \n",
      "2022-09-30 20:00:00                   NaN                           NaN   \n",
      "2022-09-30 21:00:00                   NaN                           NaN   \n",
      "2022-09-30 22:00:00                   NaN                           NaN   \n",
      "2022-09-30 23:00:00                   NaN                           NaN   \n",
      "\n",
      "                     Fremont Bridge West Sidewalk  \n",
      "Date                                               \n",
      "2022-08-01 00:00:00                           NaN  \n",
      "2022-08-01 01:00:00                           NaN  \n",
      "2022-08-01 02:00:00                           NaN  \n",
      "2022-08-01 03:00:00                           NaN  \n",
      "2022-08-01 04:00:00                           NaN  \n",
      "...                                           ...  \n",
      "2022-09-30 19:00:00                           NaN  \n",
      "2022-09-30 20:00:00                           NaN  \n",
      "2022-09-30 21:00:00                           NaN  \n",
      "2022-09-30 22:00:00                           NaN  \n",
      "2022-09-30 23:00:00                           NaN  \n",
      "\n",
      "[87600 rows x 3 columns]\n"
     ]
    },
    {
     "data": {
      "image/png": "[encoded data removed]",
      "text/plain": [
       "<Figure size 640x480 with 1 Axes>"
      ]
     },
     "metadata": {},
     "output_type": "display_data"
    }
   ],
   "source": [
    "# Windowing\n",
    "rolling = df.rolling(365, center=True)\n",
    "print(\"Rolling mean : \", rolling.mean())\n",
    "print(\"Rolling standard deviation :\", rolling.std())\n",
    "\n",
    "plot_data = pd.DataFrame(rolling.sum()).plot()"
   ]
  },
  {
   "attachments": {},
   "cell_type": "markdown",
   "metadata": {},
   "source": [
    "Visualizing the data"
   ]
  },
  {
   "cell_type": "code",
   "execution_count": 10,
   "metadata": {},
   "outputs": [
    {
     "data": {
      "text/plain": [
       "<AxesSubplot: xlabel='Date'>"
      ]
     },
     "execution_count": 10,
     "metadata": {},
     "output_type": "execute_result"
    },
    {
     "data": {
      "image/png": "[encoded data removed]",
      "text/plain": [
       "<Figure size 640x480 with 1 Axes>"
      ]
     },
     "metadata": {},
     "output_type": "display_data"
    }
   ],
   "source": [
    "df['Fremont Bridge Total'].plot()"
   ]
  },
  {
   "cell_type": "code",
   "execution_count": 11,
   "metadata": {},
   "outputs": [
    {
     "data": {
      "text/plain": [
       "<AxesSubplot: xlabel='Date'>"
      ]
     },
     "execution_count": 11,
     "metadata": {},
     "output_type": "execute_result"
    },
    {
     "data": {
      "image/png": "[encoded data removed]",
      "text/plain": [
       "<Figure size 640x480 with 1 Axes>"
      ]
     },
     "metadata": {},
     "output_type": "display_data"
    }
   ],
   "source": [
    "df['Fremont Bridge East Sidewalk'].plot()"
   ]
  },
  {
   "attachments": {},
   "cell_type": "markdown",
   "metadata": {},
   "source": [
    "Working with the Stock PX2 data frame"
   ]
  },
  {
   "cell_type": "code",
   "execution_count": 12,
   "metadata": {},
   "outputs": [
    {
     "data": {
      "text/html": [
       "<div>\n",
       "<style scoped>\n",
       "    .dataframe tbody tr th:only-of-type {\n",
       "        vertical-align: middle;\n",
       "    }\n",
       "\n",
       "    .dataframe tbody tr th {\n",
       "        vertical-align: top;\n",
       "    }\n",
       "\n",
       "    .dataframe thead th {\n",
       "        text-align: right;\n",
       "    }\n",
       "</style>\n",
       "<table border=\"1\" class=\"dataframe\">\n",
       "  <thead>\n",
       "    <tr style=\"text-align: right;\">\n",
       "      <th></th>\n",
       "      <th>Unnamed: 0</th>\n",
       "      <th>AAPL</th>\n",
       "      <th>MSFT</th>\n",
       "      <th>XOM</th>\n",
       "      <th>SPX</th>\n",
       "    </tr>\n",
       "  </thead>\n",
       "  <tbody>\n",
       "    <tr>\n",
       "      <th>0</th>\n",
       "      <td>2003-01-02 00:00:00</td>\n",
       "      <td>7.40</td>\n",
       "      <td>21.11</td>\n",
       "      <td>29.22</td>\n",
       "      <td>909.03</td>\n",
       "    </tr>\n",
       "    <tr>\n",
       "      <th>1</th>\n",
       "      <td>2003-01-03 00:00:00</td>\n",
       "      <td>7.45</td>\n",
       "      <td>21.14</td>\n",
       "      <td>29.24</td>\n",
       "      <td>908.59</td>\n",
       "    </tr>\n",
       "    <tr>\n",
       "      <th>2</th>\n",
       "      <td>2003-01-06 00:00:00</td>\n",
       "      <td>7.45</td>\n",
       "      <td>21.52</td>\n",
       "      <td>29.96</td>\n",
       "      <td>929.01</td>\n",
       "    </tr>\n",
       "    <tr>\n",
       "      <th>3</th>\n",
       "      <td>2003-01-07 00:00:00</td>\n",
       "      <td>7.43</td>\n",
       "      <td>21.93</td>\n",
       "      <td>28.95</td>\n",
       "      <td>922.93</td>\n",
       "    </tr>\n",
       "    <tr>\n",
       "      <th>4</th>\n",
       "      <td>2003-01-08 00:00:00</td>\n",
       "      <td>7.28</td>\n",
       "      <td>21.31</td>\n",
       "      <td>28.83</td>\n",
       "      <td>909.93</td>\n",
       "    </tr>\n",
       "    <tr>\n",
       "      <th>...</th>\n",
       "      <td>...</td>\n",
       "      <td>...</td>\n",
       "      <td>...</td>\n",
       "      <td>...</td>\n",
       "      <td>...</td>\n",
       "    </tr>\n",
       "    <tr>\n",
       "      <th>2209</th>\n",
       "      <td>2011-10-10 00:00:00</td>\n",
       "      <td>388.81</td>\n",
       "      <td>26.94</td>\n",
       "      <td>76.28</td>\n",
       "      <td>1194.89</td>\n",
       "    </tr>\n",
       "    <tr>\n",
       "      <th>2210</th>\n",
       "      <td>2011-10-11 00:00:00</td>\n",
       "      <td>400.29</td>\n",
       "      <td>27.00</td>\n",
       "      <td>76.27</td>\n",
       "      <td>1195.54</td>\n",
       "    </tr>\n",
       "    <tr>\n",
       "      <th>2211</th>\n",
       "      <td>2011-10-12 00:00:00</td>\n",
       "      <td>402.19</td>\n",
       "      <td>26.96</td>\n",
       "      <td>77.16</td>\n",
       "      <td>1207.25</td>\n",
       "    </tr>\n",
       "    <tr>\n",
       "      <th>2212</th>\n",
       "      <td>2011-10-13 00:00:00</td>\n",
       "      <td>408.43</td>\n",
       "      <td>27.18</td>\n",
       "      <td>76.37</td>\n",
       "      <td>1203.66</td>\n",
       "    </tr>\n",
       "    <tr>\n",
       "      <th>2213</th>\n",
       "      <td>2011-10-14 00:00:00</td>\n",
       "      <td>422.00</td>\n",
       "      <td>27.27</td>\n",
       "      <td>78.11</td>\n",
       "      <td>1224.58</td>\n",
       "    </tr>\n",
       "  </tbody>\n",
       "</table>\n",
       "<p>2214 rows × 5 columns</p>\n",
       "</div>"
      ],
      "text/plain": [
       "               Unnamed: 0    AAPL   MSFT    XOM      SPX\n",
       "0     2003-01-02 00:00:00    7.40  21.11  29.22   909.03\n",
       "1     2003-01-03 00:00:00    7.45  21.14  29.24   908.59\n",
       "2     2003-01-06 00:00:00    7.45  21.52  29.96   929.01\n",
       "3     2003-01-07 00:00:00    7.43  21.93  28.95   922.93\n",
       "4     2003-01-08 00:00:00    7.28  21.31  28.83   909.93\n",
       "...                   ...     ...    ...    ...      ...\n",
       "2209  2011-10-10 00:00:00  388.81  26.94  76.28  1194.89\n",
       "2210  2011-10-11 00:00:00  400.29  27.00  76.27  1195.54\n",
       "2211  2011-10-12 00:00:00  402.19  26.96  77.16  1207.25\n",
       "2212  2011-10-13 00:00:00  408.43  27.18  76.37  1203.66\n",
       "2213  2011-10-14 00:00:00  422.00  27.27  78.11  1224.58\n",
       "\n",
       "[2214 rows x 5 columns]"
      ]
     },
     "execution_count": 12,
     "metadata": {},
     "output_type": "execute_result"
    }
   ],
   "source": [
    "df = pd.read_csv('../data_sets/stock_px_2.csv')\n",
    "df"
   ]
  },
  {
   "attachments": {},
   "cell_type": "markdown",
   "metadata": {},
   "source": [
    "Data Indexing and Selection"
   ]
  },
  {
   "cell_type": "code",
   "execution_count": 13,
   "metadata": {},
   "outputs": [
    {
     "name": "stdout",
     "output_type": "stream",
     "text": [
      "            Unnamed: 0  AAPL\n",
      "0  2003-01-02 00:00:00  7.40\n",
      "1  2003-01-03 00:00:00  7.45\n",
      "2  2003-01-06 00:00:00  7.45\n",
      "3  2003-01-07 00:00:00  7.43\n",
      "4  2003-01-08 00:00:00  7.28 \n",
      "\n",
      "    MSFT    XOM     SPX\n",
      "3  21.93  28.95  922.93\n",
      "4  21.31  28.83  909.93\n",
      "5  21.93  29.44  927.57\n",
      "6  21.97  29.03  927.57 \n",
      "\n"
     ]
    }
   ],
   "source": [
    "print(df.iloc[0:5,0:2], '\\n')\n",
    "\n",
    "print(df.iloc[3:7,2:6], '\\n')"
   ]
  },
  {
   "cell_type": "code",
   "execution_count": 14,
   "metadata": {},
   "outputs": [
    {
     "name": "stdout",
     "output_type": "stream",
     "text": [
      "        AAPL      SPX\n",
      "0       7.40   909.03\n",
      "1       7.45   908.59\n",
      "2       7.45   929.01\n",
      "3       7.43   922.93\n",
      "4       7.28   909.93\n",
      "...      ...      ...\n",
      "2209  388.81  1194.89\n",
      "2210  400.29  1195.54\n",
      "2211  402.19  1207.25\n",
      "2212  408.43  1203.66\n",
      "2213  422.00  1224.58\n",
      "\n",
      "[2214 rows x 2 columns]\n",
      "\n",
      "         AAPL    XOM\n",
      "0       7.40  29.22\n",
      "1       7.45  29.24\n",
      "2       7.45  29.96\n",
      "3       7.43  28.95\n",
      "4       7.28  28.83\n",
      "...      ...    ...\n",
      "2209  388.81  76.28\n",
      "2210  400.29  76.27\n",
      "2211  402.19  77.16\n",
      "2212  408.43  76.37\n",
      "2213  422.00  78.11\n",
      "\n",
      "[2214 rows x 2 columns]\n"
     ]
    }
   ],
   "source": [
    "print(df[['AAPL', 'SPX']])\n",
    "\n",
    "print('\\n', df[['AAPL', \"XOM\"]])"
   ]
  },
  {
   "cell_type": "code",
   "execution_count": 15,
   "metadata": {},
   "outputs": [
    {
     "data": {
      "text/plain": [
       "Unnamed: 0    2003-01-07 00:00:00\n",
       "AAPL                         7.43\n",
       "MSFT                        21.93\n",
       "XOM                         28.95\n",
       "SPX                        922.93\n",
       "Name: 3, dtype: object"
      ]
     },
     "execution_count": 15,
     "metadata": {},
     "output_type": "execute_result"
    }
   ],
   "source": [
    "df.iloc[3]"
   ]
  },
  {
   "cell_type": "code",
   "execution_count": 16,
   "metadata": {},
   "outputs": [
    {
     "data": {
      "text/plain": [
       "0       False\n",
       "1       False\n",
       "2       False\n",
       "3       False\n",
       "4       False\n",
       "        ...  \n",
       "2209     True\n",
       "2210     True\n",
       "2211     True\n",
       "2212     True\n",
       "2213     True\n",
       "Name: AAPL, Length: 2214, dtype: bool"
      ]
     },
     "execution_count": 16,
     "metadata": {},
     "output_type": "execute_result"
    }
   ],
   "source": [
    "df['AAPL'] > 100"
   ]
  },
  {
   "attachments": {},
   "cell_type": "markdown",
   "metadata": {},
   "source": [
    "Data Ranges, Frequencies and Shifting Data"
   ]
  },
  {
   "cell_type": "code",
   "execution_count": 17,
   "metadata": {},
   "outputs": [
    {
     "data": {
      "text/plain": [
       "0       False\n",
       "1       False\n",
       "2       False\n",
       "3       False\n",
       "4       False\n",
       "        ...  \n",
       "2209     True\n",
       "2210     True\n",
       "2211     True\n",
       "2212     True\n",
       "2213     True\n",
       "Name: Unnamed: 0, Length: 2214, dtype: bool"
      ]
     },
     "execution_count": 17,
     "metadata": {},
     "output_type": "execute_result"
    }
   ],
   "source": [
    "# Data Ranges\n",
    "\n",
    "dr = df['Unnamed: 0'] > '2010-10-10'\n",
    "dr"
   ]
  },
  {
   "attachments": {},
   "cell_type": "markdown",
   "metadata": {},
   "source": [
    "Moving Window Functions"
   ]
  },
  {
   "cell_type": "code",
   "execution_count": 18,
   "metadata": {},
   "outputs": [],
   "source": [
    "df = pd.read_csv('../data_sets/stock_px_2.csv', parse_dates=True, index_col=0)"
   ]
  },
  {
   "cell_type": "code",
   "execution_count": 19,
   "metadata": {},
   "outputs": [
    {
     "data": {
      "text/html": [
       "<div>\n",
       "<style scoped>\n",
       "    .dataframe tbody tr th:only-of-type {\n",
       "        vertical-align: middle;\n",
       "    }\n",
       "\n",
       "    .dataframe tbody tr th {\n",
       "        vertical-align: top;\n",
       "    }\n",
       "\n",
       "    .dataframe thead th {\n",
       "        text-align: right;\n",
       "    }\n",
       "</style>\n",
       "<table border=\"1\" class=\"dataframe\">\n",
       "  <thead>\n",
       "    <tr style=\"text-align: right;\">\n",
       "      <th></th>\n",
       "      <th>AAPL</th>\n",
       "      <th>MSFT</th>\n",
       "    </tr>\n",
       "  </thead>\n",
       "  <tbody>\n",
       "    <tr>\n",
       "      <th>2003-01-02</th>\n",
       "      <td>7.40</td>\n",
       "      <td>21.11</td>\n",
       "    </tr>\n",
       "    <tr>\n",
       "      <th>2003-01-03</th>\n",
       "      <td>7.45</td>\n",
       "      <td>21.14</td>\n",
       "    </tr>\n",
       "    <tr>\n",
       "      <th>2003-01-06</th>\n",
       "      <td>7.45</td>\n",
       "      <td>21.52</td>\n",
       "    </tr>\n",
       "    <tr>\n",
       "      <th>2003-01-07</th>\n",
       "      <td>7.43</td>\n",
       "      <td>21.93</td>\n",
       "    </tr>\n",
       "    <tr>\n",
       "      <th>2003-01-08</th>\n",
       "      <td>7.28</td>\n",
       "      <td>21.31</td>\n",
       "    </tr>\n",
       "    <tr>\n",
       "      <th>...</th>\n",
       "      <td>...</td>\n",
       "      <td>...</td>\n",
       "    </tr>\n",
       "    <tr>\n",
       "      <th>2011-10-10</th>\n",
       "      <td>388.81</td>\n",
       "      <td>26.94</td>\n",
       "    </tr>\n",
       "    <tr>\n",
       "      <th>2011-10-11</th>\n",
       "      <td>400.29</td>\n",
       "      <td>27.00</td>\n",
       "    </tr>\n",
       "    <tr>\n",
       "      <th>2011-10-12</th>\n",
       "      <td>402.19</td>\n",
       "      <td>26.96</td>\n",
       "    </tr>\n",
       "    <tr>\n",
       "      <th>2011-10-13</th>\n",
       "      <td>408.43</td>\n",
       "      <td>27.18</td>\n",
       "    </tr>\n",
       "    <tr>\n",
       "      <th>2011-10-14</th>\n",
       "      <td>422.00</td>\n",
       "      <td>27.27</td>\n",
       "    </tr>\n",
       "  </tbody>\n",
       "</table>\n",
       "<p>2214 rows × 2 columns</p>\n",
       "</div>"
      ],
      "text/plain": [
       "              AAPL   MSFT\n",
       "2003-01-02    7.40  21.11\n",
       "2003-01-03    7.45  21.14\n",
       "2003-01-06    7.45  21.52\n",
       "2003-01-07    7.43  21.93\n",
       "2003-01-08    7.28  21.31\n",
       "...            ...    ...\n",
       "2011-10-10  388.81  26.94\n",
       "2011-10-11  400.29  27.00\n",
       "2011-10-12  402.19  26.96\n",
       "2011-10-13  408.43  27.18\n",
       "2011-10-14  422.00  27.27\n",
       "\n",
       "[2214 rows x 2 columns]"
      ]
     },
     "execution_count": 19,
     "metadata": {},
     "output_type": "execute_result"
    }
   ],
   "source": [
    "df[['AAPL', 'MSFT']]"
   ]
  },
  {
   "cell_type": "code",
   "execution_count": 20,
   "metadata": {},
   "outputs": [
    {
     "data": {
      "text/plain": [
       "<AxesSubplot: >"
      ]
     },
     "execution_count": 20,
     "metadata": {},
     "output_type": "execute_result"
    },
    {
     "data": {
      "image/png": "[encoded data removed]",
      "text/plain": [
       "<Figure size 640x480 with 1 Axes>"
      ]
     },
     "metadata": {},
     "output_type": "display_data"
    }
   ],
   "source": [
    "df_resampled = df.resample('B').ffill()\n",
    "df['AAPL'].plot()\n",
    "df_resampled['AAPL'].rolling(250).mean().plot()"
   ]
  },
  {
   "cell_type": "code",
   "execution_count": 21,
   "metadata": {},
   "outputs": [
    {
     "data": {
      "text/plain": [
       "<AxesSubplot: >"
      ]
     },
     "execution_count": 21,
     "metadata": {},
     "output_type": "execute_result"
    },
    {
     "data": {
      "image/png": "[encoded data removed]",
      "text/plain": [
       "<Figure size 640x480 with 1 Axes>"
      ]
     },
     "metadata": {},
     "output_type": "display_data"
    }
   ],
   "source": [
    "std250 = df['AAPL'].pct_change().rolling(250).std()\n",
    "std250.plot()"
   ]
  },
  {
   "cell_type": "code",
   "execution_count": 22,
   "metadata": {},
   "outputs": [
    {
     "data": {
      "text/plain": [
       "<AxesSubplot: >"
      ]
     },
     "execution_count": 22,
     "metadata": {},
     "output_type": "execute_result"
    },
    {
     "data": {
      "image/png": "[encoded data removed]",
      "text/plain": [
       "<Figure size 640x480 with 1 Axes>"
      ]
     },
     "metadata": {},
     "output_type": "display_data"
    }
   ],
   "source": [
    "expanding_mean = std250.expanding().mean()\n",
    "df.rolling(60).mean().plot()\n",
    "expanding_mean.plot()"
   ]
  },
  {
   "attachments": {},
   "cell_type": "markdown",
   "metadata": {},
   "source": [
    "Exponentially Weighted Functions"
   ]
  },
  {
   "cell_type": "code",
   "execution_count": 23,
   "metadata": {},
   "outputs": [
    {
     "ename": "NameError",
     "evalue": "name 'plt' is not defined",
     "output_type": "error",
     "traceback": [
      "\u001b[1;31m---------------------------------------------------------------------------\u001b[0m",
      "\u001b[1;31mNameError\u001b[0m                                 Traceback (most recent call last)",
      "Cell \u001b[1;32mIn [23], line 9\u001b[0m\n\u001b[0;32m      7\u001b[0m ewm_appl\u001b[39m.\u001b[39mplot(label\u001b[39m=\u001b[39m\u001b[39m'\u001b[39m\u001b[39mEW MA\u001b[39m\u001b[39m'\u001b[39m)\n\u001b[0;32m      8\u001b[0m aapl_px\u001b[39m.\u001b[39mplot(label\u001b[39m=\u001b[39m\u001b[39m'\u001b[39m\u001b[39mStock appl\u001b[39m\u001b[39m'\u001b[39m)\n\u001b[1;32m----> 9\u001b[0m plt\u001b[39m.\u001b[39mlegend()\n",
      "\u001b[1;31mNameError\u001b[0m: name 'plt' is not defined"
     ]
    },
    {
     "data": {
      "image/png": "[encoded data removed]",
      "text/plain": [
       "<Figure size 640x480 with 1 Axes>"
      ]
     },
     "metadata": {},
     "output_type": "display_data"
    }
   ],
   "source": [
    "aapl_px = df['AAPL']['2006':'2007']\n",
    "\n",
    "rolling_aapl = aapl_px.rolling(30).mean()\n",
    "ewm_appl = aapl_px.ewm(span=30).mean()\n",
    "\n",
    "rolling_aapl.plot(label='Rolling mean 30')\n",
    "ewm_appl.plot(label='EW MA')\n",
    "aapl_px.plot(label='Stock appl')\n",
    "plt.legend()"
   ]
  },
  {
   "attachments": {},
   "cell_type": "markdown",
   "metadata": {},
   "source": [
    "Time Zone Localization and Conversion"
   ]
  },
  {
   "cell_type": "code",
   "execution_count": null,
   "metadata": {},
   "outputs": [
    {
     "data": {
      "text/plain": [
       "DatetimeIndex(['2003-01-02', '2003-01-03', '2003-01-06', '2003-01-07',\n",
       "               '2003-01-08', '2003-01-09', '2003-01-10', '2003-01-13',\n",
       "               '2003-01-14', '2003-01-15',\n",
       "               ...\n",
       "               '2011-10-03', '2011-10-04', '2011-10-05', '2011-10-06',\n",
       "               '2011-10-07', '2011-10-10', '2011-10-11', '2011-10-12',\n",
       "               '2011-10-13', '2011-10-14'],\n",
       "              dtype='datetime64[ns]', length=2214, freq=None)"
      ]
     },
     "execution_count": 93,
     "metadata": {},
     "output_type": "execute_result"
    }
   ],
   "source": [
    "dates = df.index\n",
    "dates"
   ]
  },
  {
   "cell_type": "code",
   "execution_count": null,
   "metadata": {},
   "outputs": [
    {
     "data": {
      "text/plain": [
       "DatetimeIndex(['2003-01-02 00:00:00+00:00', '2003-01-03 00:00:00+00:00',\n",
       "               '2003-01-06 00:00:00+00:00', '2003-01-07 00:00:00+00:00',\n",
       "               '2003-01-08 00:00:00+00:00', '2003-01-09 00:00:00+00:00',\n",
       "               '2003-01-10 00:00:00+00:00', '2003-01-13 00:00:00+00:00',\n",
       "               '2003-01-14 00:00:00+00:00', '2003-01-15 00:00:00+00:00',\n",
       "               ...\n",
       "               '2011-10-03 00:00:00+00:00', '2011-10-04 00:00:00+00:00',\n",
       "               '2011-10-05 00:00:00+00:00', '2011-10-06 00:00:00+00:00',\n",
       "               '2011-10-07 00:00:00+00:00', '2011-10-10 00:00:00+00:00',\n",
       "               '2011-10-11 00:00:00+00:00', '2011-10-12 00:00:00+00:00',\n",
       "               '2011-10-13 00:00:00+00:00', '2011-10-14 00:00:00+00:00'],\n",
       "              dtype='datetime64[ns, UTC]', length=2214, freq=None)"
      ]
     },
     "execution_count": 98,
     "metadata": {},
     "output_type": "execute_result"
    }
   ],
   "source": [
    "dates.tz_localize('UTC')"
   ]
  },
  {
   "cell_type": "code",
   "execution_count": null,
   "metadata": {},
   "outputs": [
    {
     "data": {
      "text/plain": [
       "DatetimeIndex(['2003-01-02 00:00:00-05:00', '2003-01-03 00:00:00-05:00',\n",
       "               '2003-01-06 00:00:00-05:00', '2003-01-07 00:00:00-05:00',\n",
       "               '2003-01-08 00:00:00-05:00', '2003-01-09 00:00:00-05:00',\n",
       "               '2003-01-10 00:00:00-05:00', '2003-01-13 00:00:00-05:00',\n",
       "               '2003-01-14 00:00:00-05:00', '2003-01-15 00:00:00-05:00',\n",
       "               ...\n",
       "               '2011-10-03 00:00:00-04:00', '2011-10-04 00:00:00-04:00',\n",
       "               '2011-10-05 00:00:00-04:00', '2011-10-06 00:00:00-04:00',\n",
       "               '2011-10-07 00:00:00-04:00', '2011-10-10 00:00:00-04:00',\n",
       "               '2011-10-11 00:00:00-04:00', '2011-10-12 00:00:00-04:00',\n",
       "               '2011-10-13 00:00:00-04:00', '2011-10-14 00:00:00-04:00'],\n",
       "              dtype='datetime64[ns, America/New_York]', length=2214, freq=None)"
      ]
     },
     "execution_count": 99,
     "metadata": {},
     "output_type": "execute_result"
    }
   ],
   "source": [
    "dates.tz_localize('America/New_York')"
   ]
  },
  {
   "cell_type": "code",
   "execution_count": null,
   "metadata": {},
   "outputs": [
    {
     "data": {
      "text/plain": [
       "DatetimeIndex(['2003-01-02 00:00:00+01:00', '2003-01-03 00:00:00+01:00',\n",
       "               '2003-01-06 00:00:00+01:00', '2003-01-07 00:00:00+01:00',\n",
       "               '2003-01-08 00:00:00+01:00', '2003-01-09 00:00:00+01:00',\n",
       "               '2003-01-10 00:00:00+01:00', '2003-01-13 00:00:00+01:00',\n",
       "               '2003-01-14 00:00:00+01:00', '2003-01-15 00:00:00+01:00',\n",
       "               ...\n",
       "               '2011-10-03 00:00:00+02:00', '2011-10-04 00:00:00+02:00',\n",
       "               '2011-10-05 00:00:00+02:00', '2011-10-06 00:00:00+02:00',\n",
       "               '2011-10-07 00:00:00+02:00', '2011-10-10 00:00:00+02:00',\n",
       "               '2011-10-11 00:00:00+02:00', '2011-10-12 00:00:00+02:00',\n",
       "               '2011-10-13 00:00:00+02:00', '2011-10-14 00:00:00+02:00'],\n",
       "              dtype='datetime64[ns, Europe/Berlin]', length=2214, freq=None)"
      ]
     },
     "execution_count": 100,
     "metadata": {},
     "output_type": "execute_result"
    }
   ],
   "source": [
    "dates.tz_localize('Europe/Berlin')"
   ]
  },
  {
   "attachments": {},
   "cell_type": "markdown",
   "metadata": {},
   "source": [
    "Periods and Periodic Arithmetic"
   ]
  },
  {
   "cell_type": "code",
   "execution_count": null,
   "metadata": {},
   "outputs": [
    {
     "data": {
      "text/plain": [
       "Period('2011', 'A-DEC')"
      ]
     },
     "execution_count": 105,
     "metadata": {},
     "output_type": "execute_result"
    }
   ],
   "source": [
    "p = pd.Period('2011')\n",
    "\n",
    "p"
   ]
  },
  {
   "cell_type": "code",
   "execution_count": null,
   "metadata": {},
   "outputs": [
    {
     "name": "stdout",
     "output_type": "stream",
     "text": [
      "2019\n",
      "2001\n"
     ]
    }
   ],
   "source": [
    "print(p+8)\n",
    "print(p-10)"
   ]
  },
  {
   "attachments": {},
   "cell_type": "markdown",
   "metadata": {},
   "source": [
    "Period Frequency Conversion"
   ]
  },
  {
   "cell_type": "code",
   "execution_count": null,
   "metadata": {},
   "outputs": [
    {
     "data": {
      "text/plain": [
       "Period('2012', 'A-JUN')"
      ]
     },
     "execution_count": 115,
     "metadata": {},
     "output_type": "execute_result"
    }
   ],
   "source": [
    "p = pd.Period('Aug-2011', 'M')\n",
    "\n",
    "p.asfreq('A-JUN')"
   ]
  },
  {
   "cell_type": "code",
   "execution_count": null,
   "metadata": {},
   "outputs": [
    {
     "data": {
      "text/plain": [
       "Period('2011-08-31', 'B')"
      ]
     },
     "execution_count": 116,
     "metadata": {},
     "output_type": "execute_result"
    }
   ],
   "source": [
    "p.asfreq('B', how='end')"
   ]
  },
  {
   "attachments": {},
   "cell_type": "markdown",
   "metadata": {},
   "source": [
    "Upsampling and Downsampling\n",
    "\n",
    "Aggregating higher frequency data to lower frequency is called downsampling, while converting lower frequency to higher frequency is called upsampling"
   ]
  },
  {
   "attachments": {},
   "cell_type": "markdown",
   "metadata": {},
   "source": [
    "Upsampling"
   ]
  },
  {
   "cell_type": "code",
   "execution_count": null,
   "metadata": {},
   "outputs": [
    {
     "data": {
      "text/plain": [
       "DatetimeIndex(['2003-01-02', '2003-01-03', '2003-01-04', '2003-01-05',\n",
       "               '2003-01-06', '2003-01-07', '2003-01-08', '2003-01-09',\n",
       "               '2003-01-10', '2003-01-11',\n",
       "               ...\n",
       "               '2011-10-05', '2011-10-06', '2011-10-07', '2011-10-08',\n",
       "               '2011-10-09', '2011-10-10', '2011-10-11', '2011-10-12',\n",
       "               '2011-10-13', '2011-10-14'],\n",
       "              dtype='datetime64[ns]', length=3208, freq='D')"
      ]
     },
     "execution_count": 123,
     "metadata": {},
     "output_type": "execute_result"
    }
   ],
   "source": [
    "resampled_dates = df.resample('D').asfreq()\n",
    "resampled_dates.index"
   ]
  },
  {
   "cell_type": "code",
   "execution_count": null,
   "metadata": {},
   "outputs": [
    {
     "data": {
      "text/html": [
       "<div>\n",
       "<style scoped>\n",
       "    .dataframe tbody tr th:only-of-type {\n",
       "        vertical-align: middle;\n",
       "    }\n",
       "\n",
       "    .dataframe tbody tr th {\n",
       "        vertical-align: top;\n",
       "    }\n",
       "\n",
       "    .dataframe thead th {\n",
       "        text-align: right;\n",
       "    }\n",
       "</style>\n",
       "<table border=\"1\" class=\"dataframe\">\n",
       "  <thead>\n",
       "    <tr style=\"text-align: right;\">\n",
       "      <th></th>\n",
       "      <th>AAPL</th>\n",
       "      <th>MSFT</th>\n",
       "      <th>XOM</th>\n",
       "      <th>SPX</th>\n",
       "    </tr>\n",
       "  </thead>\n",
       "  <tbody>\n",
       "    <tr>\n",
       "      <th>2003-01-02</th>\n",
       "      <td>7.40</td>\n",
       "      <td>21.11</td>\n",
       "      <td>29.22</td>\n",
       "      <td>909.03</td>\n",
       "    </tr>\n",
       "    <tr>\n",
       "      <th>2003-01-03</th>\n",
       "      <td>7.45</td>\n",
       "      <td>21.14</td>\n",
       "      <td>29.24</td>\n",
       "      <td>908.59</td>\n",
       "    </tr>\n",
       "    <tr>\n",
       "      <th>2003-01-04</th>\n",
       "      <td>NaN</td>\n",
       "      <td>NaN</td>\n",
       "      <td>NaN</td>\n",
       "      <td>NaN</td>\n",
       "    </tr>\n",
       "    <tr>\n",
       "      <th>2003-01-05</th>\n",
       "      <td>NaN</td>\n",
       "      <td>NaN</td>\n",
       "      <td>NaN</td>\n",
       "      <td>NaN</td>\n",
       "    </tr>\n",
       "    <tr>\n",
       "      <th>2003-01-06</th>\n",
       "      <td>7.45</td>\n",
       "      <td>21.52</td>\n",
       "      <td>29.96</td>\n",
       "      <td>929.01</td>\n",
       "    </tr>\n",
       "    <tr>\n",
       "      <th>...</th>\n",
       "      <td>...</td>\n",
       "      <td>...</td>\n",
       "      <td>...</td>\n",
       "      <td>...</td>\n",
       "    </tr>\n",
       "    <tr>\n",
       "      <th>2011-10-10</th>\n",
       "      <td>388.81</td>\n",
       "      <td>26.94</td>\n",
       "      <td>76.28</td>\n",
       "      <td>1194.89</td>\n",
       "    </tr>\n",
       "    <tr>\n",
       "      <th>2011-10-11</th>\n",
       "      <td>400.29</td>\n",
       "      <td>27.00</td>\n",
       "      <td>76.27</td>\n",
       "      <td>1195.54</td>\n",
       "    </tr>\n",
       "    <tr>\n",
       "      <th>2011-10-12</th>\n",
       "      <td>402.19</td>\n",
       "      <td>26.96</td>\n",
       "      <td>77.16</td>\n",
       "      <td>1207.25</td>\n",
       "    </tr>\n",
       "    <tr>\n",
       "      <th>2011-10-13</th>\n",
       "      <td>408.43</td>\n",
       "      <td>27.18</td>\n",
       "      <td>76.37</td>\n",
       "      <td>1203.66</td>\n",
       "    </tr>\n",
       "    <tr>\n",
       "      <th>2011-10-14</th>\n",
       "      <td>422.00</td>\n",
       "      <td>27.27</td>\n",
       "      <td>78.11</td>\n",
       "      <td>1224.58</td>\n",
       "    </tr>\n",
       "  </tbody>\n",
       "</table>\n",
       "<p>3208 rows × 4 columns</p>\n",
       "</div>"
      ],
      "text/plain": [
       "              AAPL   MSFT    XOM      SPX\n",
       "2003-01-02    7.40  21.11  29.22   909.03\n",
       "2003-01-03    7.45  21.14  29.24   908.59\n",
       "2003-01-04     NaN    NaN    NaN      NaN\n",
       "2003-01-05     NaN    NaN    NaN      NaN\n",
       "2003-01-06    7.45  21.52  29.96   929.01\n",
       "...            ...    ...    ...      ...\n",
       "2011-10-10  388.81  26.94  76.28  1194.89\n",
       "2011-10-11  400.29  27.00  76.27  1195.54\n",
       "2011-10-12  402.19  26.96  77.16  1207.25\n",
       "2011-10-13  408.43  27.18  76.37  1203.66\n",
       "2011-10-14  422.00  27.27  78.11  1224.58\n",
       "\n",
       "[3208 rows x 4 columns]"
      ]
     },
     "execution_count": 124,
     "metadata": {},
     "output_type": "execute_result"
    }
   ],
   "source": [
    "resampled_dates.resample('D').ffill()"
   ]
  },
  {
   "attachments": {},
   "cell_type": "markdown",
   "metadata": {},
   "source": [
    "Down Sampling"
   ]
  },
  {
   "cell_type": "code",
   "execution_count": 25,
   "metadata": {},
   "outputs": [
    {
     "data": {
      "text/html": [
       "<div>\n",
       "<style scoped>\n",
       "    .dataframe tbody tr th:only-of-type {\n",
       "        vertical-align: middle;\n",
       "    }\n",
       "\n",
       "    .dataframe tbody tr th {\n",
       "        vertical-align: top;\n",
       "    }\n",
       "\n",
       "    .dataframe thead th {\n",
       "        text-align: right;\n",
       "    }\n",
       "</style>\n",
       "<table border=\"1\" class=\"dataframe\">\n",
       "  <thead>\n",
       "    <tr style=\"text-align: right;\">\n",
       "      <th></th>\n",
       "      <th>AAPL</th>\n",
       "      <th>MSFT</th>\n",
       "      <th>XOM</th>\n",
       "      <th>SPX</th>\n",
       "    </tr>\n",
       "  </thead>\n",
       "  <tbody>\n",
       "    <tr>\n",
       "      <th>2003-01-02</th>\n",
       "      <td>7.40</td>\n",
       "      <td>21.11</td>\n",
       "      <td>29.22</td>\n",
       "      <td>909.03</td>\n",
       "    </tr>\n",
       "    <tr>\n",
       "      <th>2003-01-03</th>\n",
       "      <td>7.45</td>\n",
       "      <td>21.14</td>\n",
       "      <td>29.24</td>\n",
       "      <td>908.59</td>\n",
       "    </tr>\n",
       "    <tr>\n",
       "      <th>2003-01-04</th>\n",
       "      <td>NaN</td>\n",
       "      <td>NaN</td>\n",
       "      <td>NaN</td>\n",
       "      <td>NaN</td>\n",
       "    </tr>\n",
       "    <tr>\n",
       "      <th>2003-01-05</th>\n",
       "      <td>NaN</td>\n",
       "      <td>NaN</td>\n",
       "      <td>NaN</td>\n",
       "      <td>NaN</td>\n",
       "    </tr>\n",
       "    <tr>\n",
       "      <th>2003-01-06</th>\n",
       "      <td>7.45</td>\n",
       "      <td>21.52</td>\n",
       "      <td>29.96</td>\n",
       "      <td>929.01</td>\n",
       "    </tr>\n",
       "    <tr>\n",
       "      <th>...</th>\n",
       "      <td>...</td>\n",
       "      <td>...</td>\n",
       "      <td>...</td>\n",
       "      <td>...</td>\n",
       "    </tr>\n",
       "    <tr>\n",
       "      <th>2011-10-10</th>\n",
       "      <td>388.81</td>\n",
       "      <td>26.94</td>\n",
       "      <td>76.28</td>\n",
       "      <td>1194.89</td>\n",
       "    </tr>\n",
       "    <tr>\n",
       "      <th>2011-10-11</th>\n",
       "      <td>400.29</td>\n",
       "      <td>27.00</td>\n",
       "      <td>76.27</td>\n",
       "      <td>1195.54</td>\n",
       "    </tr>\n",
       "    <tr>\n",
       "      <th>2011-10-12</th>\n",
       "      <td>402.19</td>\n",
       "      <td>26.96</td>\n",
       "      <td>77.16</td>\n",
       "      <td>1207.25</td>\n",
       "    </tr>\n",
       "    <tr>\n",
       "      <th>2011-10-13</th>\n",
       "      <td>408.43</td>\n",
       "      <td>27.18</td>\n",
       "      <td>76.37</td>\n",
       "      <td>1203.66</td>\n",
       "    </tr>\n",
       "    <tr>\n",
       "      <th>2011-10-14</th>\n",
       "      <td>422.00</td>\n",
       "      <td>27.27</td>\n",
       "      <td>78.11</td>\n",
       "      <td>1224.58</td>\n",
       "    </tr>\n",
       "  </tbody>\n",
       "</table>\n",
       "<p>3208 rows × 4 columns</p>\n",
       "</div>"
      ],
      "text/plain": [
       "              AAPL   MSFT    XOM      SPX\n",
       "2003-01-02    7.40  21.11  29.22   909.03\n",
       "2003-01-03    7.45  21.14  29.24   908.59\n",
       "2003-01-04     NaN    NaN    NaN      NaN\n",
       "2003-01-05     NaN    NaN    NaN      NaN\n",
       "2003-01-06    7.45  21.52  29.96   929.01\n",
       "...            ...    ...    ...      ...\n",
       "2011-10-10  388.81  26.94  76.28  1194.89\n",
       "2011-10-11  400.29  27.00  76.27  1195.54\n",
       "2011-10-12  402.19  26.96  77.16  1207.25\n",
       "2011-10-13  408.43  27.18  76.37  1203.66\n",
       "2011-10-14  422.00  27.27  78.11  1224.58\n",
       "\n",
       "[3208 rows x 4 columns]"
      ]
     },
     "execution_count": 25,
     "metadata": {},
     "output_type": "execute_result"
    }
   ],
   "source": [
    "resampled_dates = df.resample('D').asfreq()\n",
    "resampled_dates"
   ]
  },
  {
   "attachments": {},
   "cell_type": "markdown",
   "metadata": {},
   "source": [
    "Data Ranges, Frequencies, Shifting"
   ]
  }
 ],
 "metadata": {
  "kernelspec": {
   "display_name": "Python 3",
   "language": "python",
   "name": "python3"
  },
  "language_info": {
   "codemirror_mode": {
    "name": "ipython",
    "version": 3
   },
   "file_extension": ".py",
   "mimetype": "text/x-python",
   "name": "python",
   "nbconvert_exporter": "python",
   "pygments_lexer": "ipython3",
   "version": "3.11.1 (tags/v3.11.1:a7a450f, Dec  6 2022, 19:58:39) [MSC v.1934 64 bit (AMD64)]"
  },
  "orig_nbformat": 4,
  "vscode": {
   "interpreter": {
    "hash": "2fbd72be344b8c332a0e053e29222c977c1ed4bdf49857a76638547ea4f10abc"
   }
  }
 },
 "nbformat": 4,
 "nbformat_minor": 2
}
