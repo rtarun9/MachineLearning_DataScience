{
 "cells": [
  {
   "cell_type": "code",
   "execution_count": 7,
   "metadata": {},
   "outputs": [],
   "source": [
    "import numpy as np\n",
    "\n",
    "eligible_population = [0.26, 0.74]"
   ]
  },
  {
   "cell_type": "code",
   "execution_count": 8,
   "metadata": {},
   "outputs": [
    {
     "data": {
      "text/plain": [
       "29"
      ]
     },
     "execution_count": 8,
     "metadata": {},
     "output_type": "execute_result"
    }
   ],
   "source": [
    "np.random.binomial(100, 0.26)"
   ]
  },
  {
   "cell_type": "code",
   "execution_count": 10,
   "metadata": {},
   "outputs": [
    {
     "data": {
      "text/plain": [
       "[array([29, 23, 26, 26, 19, 24, 32, 25, 29, 12]),\n",
       " array([25, 33, 28, 22, 26, 32, 23, 21, 31, 26]),\n",
       " array([24, 22, 22, 35, 33, 28, 24, 29, 31, 22]),\n",
       " array([29, 25, 34, 27, 25, 23, 22, 25, 32, 24]),\n",
       " array([19, 27, 23, 31, 30, 29, 30, 23, 28, 34]),\n",
       " array([11, 19, 32, 33, 22, 22, 28, 30, 26, 22]),\n",
       " array([39, 26, 25, 23, 17, 20, 23, 20, 24, 25]),\n",
       " array([30, 21, 23, 23, 28, 29, 19, 32, 24, 29]),\n",
       " array([26, 28, 21, 28, 25, 35, 18, 27, 19, 23]),\n",
       " array([26, 24, 37, 23, 23, 25, 25, 21, 39, 25])]"
      ]
     },
     "execution_count": 10,
     "metadata": {},
     "output_type": "execute_result"
    }
   ],
   "source": [
    "runs = 100\n",
    "count_black_race = []\n",
    "for i in range(runs):\n",
    "    count_black_race.append(np.random.binomial(100,0.26, runs))\n",
    "count_black_race"
   ]
  },
  {
   "cell_type": "code",
   "execution_count": 20,
   "metadata": {},
   "outputs": [
    {
     "data": {
      "text/plain": [
       "(array([[1., 1., 5., 3., 0.],\n",
       "        [0., 2., 4., 4., 0.],\n",
       "        [0., 3., 2., 4., 1.],\n",
       "        [0., 1., 6., 2., 1.],\n",
       "        [0., 1., 3., 5., 1.],\n",
       "        [1., 4., 1., 4., 0.],\n",
       "        [0., 3., 6., 0., 1.],\n",
       "        [0., 2., 3., 5., 0.],\n",
       "        [0., 3., 4., 2., 1.],\n",
       "        [0., 1., 7., 0., 2.]]),\n",
       " array([11. , 16.6, 22.2, 27.8, 33.4, 39. ]),\n",
       " <a list of 10 BarContainer objects>)"
      ]
     },
     "execution_count": 20,
     "metadata": {},
     "output_type": "execute_result"
    },
    {
     "data": {
      "image/png": "[encoded data removed]",
      "text/plain": [
       "<Figure size 640x480 with 1 Axes>"
      ]
     },
     "metadata": {},
     "output_type": "display_data"
    }
   ],
   "source": [
    "import matplotlib.pyplot as plt\n",
    "plt.hist(count_black_race, bins=5)"
   ]
  }
 ],
 "metadata": {
  "kernelspec": {
   "display_name": "Python 3",
   "language": "python",
   "name": "python3"
  },
  "language_info": {
   "codemirror_mode": {
    "name": "ipython",
    "version": 3
   },
   "file_extension": ".py",
   "mimetype": "text/x-python",
   "name": "python",
   "nbconvert_exporter": "python",
   "pygments_lexer": "ipython3",
   "version": "3.11.1 (tags/v3.11.1:a7a450f, Dec  6 2022, 19:58:39) [MSC v.1934 64 bit (AMD64)]"
  },
  "orig_nbformat": 4,
  "vscode": {
   "interpreter": {
    "hash": "2fbd72be344b8c332a0e053e29222c977c1ed4bdf49857a76638547ea4f10abc"
   }
  }
 },
 "nbformat": 4,
 "nbformat_minor": 2
}
