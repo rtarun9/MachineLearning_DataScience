{
 "cells": [
  {
   "cell_type": "code",
   "execution_count": 2,
   "metadata": {},
   "outputs": [
    {
     "data": {
      "text/plain": [
       "[0, 1, 2]"
      ]
     },
     "execution_count": 2,
     "metadata": {},
     "output_type": "execute_result"
    }
   ],
   "source": [
    "import random\n",
    "import numpy as np\n",
    "\n",
    "n = 3\n",
    "doors = list(range(n))\n",
    "doors"
   ]
  },
  {
   "cell_type": "code",
   "execution_count": 38,
   "metadata": {},
   "outputs": [
    {
     "name": "stdout",
     "output_type": "stream",
     "text": [
      "Picked :  2\n",
      "Car behind :  0\n"
     ]
    },
    {
     "data": {
      "text/plain": [
       "[0, 1]"
      ]
     },
     "execution_count": 38,
     "metadata": {},
     "output_type": "execute_result"
    }
   ],
   "source": [
    "car_behind = np.random.randint(n)\n",
    "car_behind\n",
    "picked_door = np.random.randint(n)\n",
    "other_doors = [door for door in doors if door != picked_door]\n",
    "print(\"Picked : \", picked_door)\n",
    "print(\"Car behind : \", car_behind)\n",
    "other_doors"
   ]
  },
  {
   "cell_type": "code",
   "execution_count": 45,
   "metadata": {},
   "outputs": [
    {
     "name": "stdout",
     "output_type": "stream",
     "text": [
      "0\n"
     ]
    }
   ],
   "source": [
    "# Alternative door (door that the player did not pick, and car not behind it)\n",
    "alt = (car_behind if car_behind in other_doors else np.random.choice(other_doors))\n",
    "print(alt)\n",
    "\n",
    "# Check if changing door was a good choice.\n",
    "change_correct = alt == car_behind"
   ]
  },
  {
   "cell_type": "code",
   "execution_count": 74,
   "metadata": {},
   "outputs": [
    {
     "name": "stdout",
     "output_type": "stream",
     "text": [
      "66.03\n"
     ]
    }
   ],
   "source": [
    "# Simulation for 100 times\n",
    "def simulation():\n",
    "    n = 3\n",
    "    doors = list(range(n))\n",
    "    car_behind = np.random.randint(n)\n",
    "    picked_door = np.random.randint(n)\n",
    "    other_doors = [door for door in doors if door != picked_door]\n",
    "    alt_door = (car_behind if car_behind in other_doors else np.random.choice(other_doors))\n",
    "    return alt_door == car_behind\n",
    "\n",
    "runs = 10000\n",
    "runs_with_correct_change = 0\n",
    "\n",
    "for i in range(runs):\n",
    "    if simulation() == True:\n",
    "        runs_with_correct_change += 1\n",
    "\n",
    "print((runs_with_correct_change / runs) * 100)"
   ]
  },
  {
   "attachments": {},
   "cell_type": "markdown",
   "metadata": {},
   "source": [
    "If we swapped our option last minute we would have 2/3 chance of winning the car."
   ]
  }
 ],
 "metadata": {
  "kernelspec": {
   "display_name": "Python 3",
   "language": "python",
   "name": "python3"
  },
  "language_info": {
   "codemirror_mode": {
    "name": "ipython",
    "version": 3
   },
   "file_extension": ".py",
   "mimetype": "text/x-python",
   "name": "python",
   "nbconvert_exporter": "python",
   "pygments_lexer": "ipython3",
   "version": "3.11.0"
  },
  "orig_nbformat": 4,
  "vscode": {
   "interpreter": {
    "hash": "2fbd72be344b8c332a0e053e29222c977c1ed4bdf49857a76638547ea4f10abc"
   }
  }
 },
 "nbformat": 4,
 "nbformat_minor": 2
}
