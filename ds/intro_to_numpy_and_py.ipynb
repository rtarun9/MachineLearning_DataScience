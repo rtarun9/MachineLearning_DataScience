{
 "cells": [
  {
   "cell_type": "code",
   "execution_count": 12,
   "metadata": {},
   "outputs": [],
   "source": [
    "# Importing the numpy library.\n",
    "\n",
    "import numpy as np\n"
   ]
  },
  {
   "cell_type": "code",
   "execution_count": 4,
   "metadata": {},
   "outputs": [
    {
     "name": "stdout",
     "output_type": "stream",
     "text": [
      "('aman', '222', 777, 400.4) <class 'tuple'>\n"
     ]
    }
   ],
   "source": [
    "# Q1. Generate a tuple from the set [\"aman\", \"222\", 777, 400.4] \n",
    "tup = tuple([\"aman\", \"222\", 777, 400.4])\n",
    "print(tup, type(tup))"
   ]
  },
  {
   "cell_type": "code",
   "execution_count": 5,
   "metadata": {},
   "outputs": [
    {
     "name": "stdout",
     "output_type": "stream",
     "text": [
      "roll_no => CB.EN.U4CSE20666\n",
      "last_name => Ramaswamy\n",
      "first_name => Tarun\n",
      "date_of_birth => 09/01/2003\n"
     ]
    }
   ],
   "source": [
    "# Q2. Create a dictionary of your basic data : (a) Roll No (b) Last Name (c) First Name (d) Date of birth. Print out the values and keys. \n",
    "basic_data = { 'roll_no': 'CB.EN.U4CSE20666', 'last_name': 'Ramaswamy', 'first_name': 'Tarun', 'date_of_birth': '09/01/2003'}\n",
    "for (key) in basic_data:\n",
    "    print(key, \"=>\", basic_data[key])"
   ]
  },
  {
   "cell_type": "code",
   "execution_count": 6,
   "metadata": {},
   "outputs": [
    {
     "data": {
      "text/plain": [
       "array([[0.0735006 , 0.33757761],\n",
       "       [0.64666282, 0.26530724]])"
      ]
     },
     "execution_count": 6,
     "metadata": {},
     "output_type": "execute_result"
    }
   ],
   "source": [
    "# Q3. Use rand function to generate a 2-dimensional random array with seed. \n",
    "np.random.seed(1234566)\n",
    "mat = np.random.rand(2, 2)\n",
    "mat"
   ]
  },
  {
   "cell_type": "code",
   "execution_count": 7,
   "metadata": {},
   "outputs": [
    {
     "name": "stdout",
     "output_type": "stream",
     "text": [
      "0.4020764116303175 1234\n"
     ]
    }
   ],
   "source": [
    "# Q4. Generate a single random number in [0.0, 1.0]. Find the absolute value of (-1234) \n",
    "rand_num = np.random.random()\n",
    "rand_num\n",
    "\n",
    "print(rand_num, abs(-1234))"
   ]
  },
  {
   "cell_type": "code",
   "execution_count": 8,
   "metadata": {},
   "outputs": [
    {
     "data": {
      "text/plain": [
       "85"
      ]
     },
     "execution_count": 8,
     "metadata": {},
     "output_type": "execute_result"
    }
   ],
   "source": [
    "# Q5. Return a random integer N such that 20 <= N <= 90.  \n",
    "rand_num = np.random.randint(20, 90)\n",
    "rand_num"
   ]
  },
  {
   "cell_type": "code",
   "execution_count": 9,
   "metadata": {},
   "outputs": [
    {
     "name": "stdout",
     "output_type": "stream",
     "text": [
      "[12 13 15]\n",
      "None\n",
      "[14, 12, 13, 11, 15]\n",
      "[12]\n"
     ]
    }
   ],
   "source": [
    "# Q6. Given a population or set[11, 12, 13,14, 15] \n",
    "# Return a 3 length list of unique elements without replacement. \n",
    "# Shuffle the above set \n",
    "# Print a random number from the set \n",
    "\n",
    "s = ([11, 12, 13, 14, 15])\n",
    "print(np.random.choice(s, 3))\n",
    "\n",
    "print(np.random.shuffle(s))\n",
    "print(s)\n",
    "\n",
    "print(np.random.choice(s, 1))"
   ]
  },
  {
   "cell_type": "code",
   "execution_count": 10,
   "metadata": {},
   "outputs": [
    {
     "name": "stdout",
     "output_type": "stream",
     "text": [
      "The King is Dead, Long Live The King!\n"
     ]
    }
   ],
   "source": [
    "# Q7. Write the text \"The King is Dead, Long Live The King\" on to a file in your hard drive; read and print the text. \n",
    "f = open('../data_sets/c_file.txt', 'w+')\n",
    "f.write('The King is Dead, Long Live The King!')\n",
    "f.close()\n",
    "\n",
    "f = open('../data_sets/c_file.txt', 'r')\n",
    "f_contents = f.read()\n",
    "print(f_contents)\n",
    "f.close()"
   ]
  },
  {
   "cell_type": "code",
   "execution_count": 11,
   "metadata": {},
   "outputs": [
    {
     "name": "stdout",
     "output_type": "stream",
     "text": [
      "-1\n",
      "0\n",
      "1\n",
      "2\n",
      "3\n",
      "4\n",
      "5\n",
      "6\n",
      "7\n",
      "8\n",
      "9\n",
      "0\n",
      "1\n",
      "2\n",
      "3\n",
      "4\n",
      "5\n",
      "6\n",
      "7\n",
      "8\n",
      "9\n"
     ]
    },
    {
     "ename": "KeyboardInterrupt",
     "evalue": "",
     "output_type": "error",
     "traceback": [
      "\u001b[1;31m---------------------------------------------------------------------------\u001b[0m",
      "\u001b[1;31mKeyboardInterrupt\u001b[0m                         Traceback (most recent call last)",
      "Cell \u001b[1;32mIn [11], line 24\u001b[0m\n\u001b[0;32m     22\u001b[0m \u001b[39mwhile\u001b[39;00m \u001b[39mTrue\u001b[39;00m:\n\u001b[0;32m     23\u001b[0m     \u001b[39mif\u001b[39;00m i \u001b[39m<\u001b[39m \u001b[39m10\u001b[39m:\n\u001b[1;32m---> 24\u001b[0m         \u001b[39mcontinue\u001b[39;00m\n\u001b[0;32m     25\u001b[0m     \u001b[39melif\u001b[39;00m i \u001b[39m==\u001b[39m \u001b[39m10\u001b[39m:\n\u001b[0;32m     26\u001b[0m         \u001b[39mbreak\u001b[39;00m\n",
      "\u001b[1;31mKeyboardInterrupt\u001b[0m: "
     ]
    }
   ],
   "source": [
    "# Q8. Create an illustrative function to demonstrate use of: if, elif and else (b) for, while, break and continue.\n",
    "\n",
    "def _sign(x):\n",
    "    if x < 0:\n",
    "        return -1\n",
    "    elif x == 0:\n",
    "        return 0\n",
    "    elif x > 0:\n",
    "        return 1\n",
    "\n",
    "print(_sign(-199))\n",
    "\n",
    "for i in range(0, 10):\n",
    "    print(i)\n",
    "\n",
    "i = 0\n",
    "while i < 10:\n",
    "    print(i)\n",
    "    i += 1\n",
    "\n",
    "i = 0\n",
    "while True:\n",
    "    if i < 10:\n",
    "        continue\n",
    "    elif i == 10:\n",
    "        break"
   ]
  },
  {
   "cell_type": "code",
   "execution_count": null,
   "metadata": {},
   "outputs": [
    {
     "name": "stdout",
     "output_type": "stream",
     "text": [
      "The King is Dead, Long Live The King\n",
      "T\n",
      " Ki\n",
      " King is Dead, Long Live The King\n",
      "['The', 'King', 'is', 'Dead,', 'Long', 'Live', 'The', 'King']\n"
     ]
    }
   ],
   "source": [
    "# Q9. Given a string \"The King is Dead, Long Live The King\"  \n",
    "# Print the complete string \n",
    "# Print first character of the string \n",
    "# Print characters starting from 3rd to 5th \n",
    "# Print string starting from 3rd character \n",
    "# Split the words \n",
    "\n",
    "s = 'The King is Dead, Long Live The King'\n",
    "\n",
    "print(s)\n",
    "print(s[0])\n",
    "print(s[3:6])\n",
    "print(s[3:])\n",
    "print(s.split(' '))"
   ]
  },
  {
   "cell_type": "code",
   "execution_count": 15,
   "metadata": {},
   "outputs": [
    {
     "data": {
      "text/plain": [
       "array([1., 4.], dtype=float32)"
      ]
     },
     "execution_count": 15,
     "metadata": {},
     "output_type": "execute_result"
    }
   ],
   "source": [
    "# Q10. An array can be created from a list:  Create an array from a list comprising of numbers 1,4,5,8 (treat them as floats).Slice the above array to display first and second elements \n",
    "\n",
    "arr = np.array([1, 4, 5, 8], dtype=np.float32)\n",
    "arr[0:2]"
   ]
  },
  {
   "cell_type": "code",
   "execution_count": 17,
   "metadata": {},
   "outputs": [
    {
     "data": {
      "text/plain": [
       "array([[1, 2, 3],\n",
       "       [4, 5, 6]])"
      ]
     },
     "execution_count": 17,
     "metadata": {},
     "output_type": "execute_result"
    }
   ],
   "source": [
    "# Q11. Arrays can be multidimensional. Create a two-dimensional array of (1,2,3) and (4,5,6). \n",
    "\n",
    "arr = np.array([[1, 2, 3], [4, 5, 6]])\n",
    "arr"
   ]
  },
  {
   "cell_type": "code",
   "execution_count": 26,
   "metadata": {},
   "outputs": [
    {
     "name": "stdout",
     "output_type": "stream",
     "text": [
      "[[4 5 6]]\n",
      "[2 5]\n",
      "2\n"
     ]
    }
   ],
   "source": [
    "# Q12. Array slicing works with multiple dimensions in the same way as usual, applying each slice specification as a filter to a specified dimension. Consider two-dimensional array of (1,2,3) and (4,5,6). \n",
    "# Slice and display the 2nd row. \n",
    "# Write code to display as array([2., 5.])  \n",
    "# Find the length of the array. \n",
    "\n",
    "arr = np.array([[1, 2, 3], [4, 5, 6]])\n",
    "print(arr[1:])\n",
    "\n",
    "print(arr[:,1])\n",
    "\n",
    "print(len(arr))"
   ]
  },
  {
   "cell_type": "code",
   "execution_count": 39,
   "metadata": {},
   "outputs": [
    {
     "name": "stdout",
     "output_type": "stream",
     "text": [
      "[[ 1  2  3  4  5]\n",
      " [ 6  7  8  9 10]]\n",
      "[[ 1  6]\n",
      " [ 2  7]\n",
      " [ 3  8]\n",
      " [ 4  9]\n",
      " [ 5 10]]\n"
     ]
    }
   ],
   "source": [
    "# Q13. Arrays can be reshaped using tuples that specify new dimensions. Turn a ten-element one-dimensional array into a two-dimensional one whose first axis has five elements and whose second axis has two elements. Obtain the transpose of the array \n",
    "\n",
    "arr = [1, 2, 3, 4, 5, 6, 7, 8, 9, 10]\n",
    "arr = np.array(arr)\n",
    "\n",
    "arr = arr.reshape((2, 5))\n",
    "print(arr)\n",
    "print(arr.transpose())"
   ]
  },
  {
   "cell_type": "code",
   "execution_count": 40,
   "metadata": {},
   "outputs": [
    {
     "data": {
      "text/plain": [
       "array([1, 2, 3])"
      ]
     },
     "execution_count": 40,
     "metadata": {},
     "output_type": "execute_result"
    }
   ],
   "source": [
    "# Q14. Create an array from a list of 1,2 and 3. \n",
    "arr = np.array([1, 2, 3])\n",
    "arr"
   ]
  },
  {
   "cell_type": "code",
   "execution_count": 42,
   "metadata": {},
   "outputs": [
    {
     "data": {
      "text/plain": [
       "array([9, 9, 9])"
      ]
     },
     "execution_count": 42,
     "metadata": {},
     "output_type": "execute_result"
    }
   ],
   "source": [
    "# Q15. Fill an array [1,2,3] with a single value [9,9,9].  \n",
    "arr = [1, 2, 3]\n",
    "arr = np.array(arr)\n",
    "\n",
    "arr.fill(9)\n",
    "arr"
   ]
  },
  {
   "cell_type": "code",
   "execution_count": 43,
   "metadata": {},
   "outputs": [
    {
     "data": {
      "text/plain": [
       "11"
      ]
     },
     "execution_count": 43,
     "metadata": {},
     "output_type": "execute_result"
    }
   ],
   "source": [
    "# Q16. Sum the elements of array [2,4,5]. \n",
    "arr = np.array([2, 4, 5])\n",
    "arr.sum()"
   ]
  },
  {
   "cell_type": "code",
   "execution_count": 44,
   "metadata": {},
   "outputs": [
    {
     "data": {
      "text/plain": [
       "427350"
      ]
     },
     "execution_count": 44,
     "metadata": {},
     "output_type": "execute_result"
    }
   ],
   "source": [
    "# Q17. Give the products of array [77,74,75] \n",
    "arr = np.array([77, 74, 75])\n",
    "arr.prod()"
   ]
  },
  {
   "cell_type": "code",
   "execution_count": 57,
   "metadata": {},
   "outputs": [
    {
     "name": "stdout",
     "output_type": "stream",
     "text": [
      "Mean: 12.461538461538462\n",
      "Variance: 367.32544378698225\n",
      "Max: 56\n",
      "Min: 1\n",
      "Argmin: 1\n",
      "Argmax: 12\n",
      "Median: 2.0\n",
      "SD: 19.165736192147232\n"
     ]
    }
   ],
   "source": [
    "# Q18. Given an array [2,1,9,1,2,22,1,1,4,55,6,2,56]. Find mean, variance, max, min, argmin, median, argmax and standard deviation. \n",
    "\n",
    "arr = np.array([2,1,9,1,2,22,1,1,4,55,6,2,56])\n",
    "arr\n",
    "\n",
    "print(\"Mean:\", arr.mean())\n",
    "print(\"Variance:\", arr.var())\n",
    "print(\"Max:\", arr.max())\n",
    "print(\"Min:\", arr.min())\n",
    "print(\"Argmin:\", arr.argmin())\n",
    "print(\"Argmax:\", arr.argmax())\n",
    "print(\"Median:\", np.median(arr))\n",
    "print(\"SD:\", np.std(arr))"
   ]
  },
  {
   "cell_type": "code",
   "execution_count": 63,
   "metadata": {},
   "outputs": [
    {
     "name": "stdout",
     "output_type": "stream",
     "text": [
      "[1 4 5 7]\n"
     ]
    }
   ],
   "source": [
    "# Q19. Extract unique elements from an array: [1, 1, 4, 5, 5, 5, 7] and sort it. \n",
    "arr = np.array([1, 1, 4, 5, 5, 5, 7])\n",
    "arr = np.unique(arr)\n",
    "print(np.sort(arr))"
   ]
  },
  {
   "cell_type": "code",
   "execution_count": 64,
   "metadata": {},
   "outputs": [
    {
     "name": "stdout",
     "output_type": "stream",
     "text": [
      "5\n"
     ]
    }
   ],
   "source": [
    "# Q19. Find dot product of two arrays [1, 2, 3]and [0, 1, 1].\n",
    "arr1 = np.array([1, 2, 3])\n",
    "arr2 = np.array([0, 1, 1])\n",
    "print(np.dot(arr1, arr2))"
   ]
  },
  {
   "cell_type": "code",
   "execution_count": 69,
   "metadata": {},
   "outputs": [
    {
     "name": "stdout",
     "output_type": "stream",
     "text": [
      "(array([-1., -2.]), matrix([[0.9701425 , 0.9486833 ],\n",
      "        [0.24253563, 0.31622777]]))\n"
     ]
    }
   ],
   "source": [
    "# Q20. Find the eigenvalues and eigenvectors of matrix A. \n",
    "# A = [[2, -12], [1, -5]]\n",
    "\n",
    "a = np.matrix([[2, -12], [1, -5]])\n",
    "print(np.linalg.eig(a))"
   ]
  },
  {
   "cell_type": "code",
   "execution_count": 73,
   "metadata": {},
   "outputs": [
    {
     "data": {
      "text/plain": [
       "array([[1.        , 0.15997968],\n",
       "       [0.15997968, 1.        ]])"
      ]
     },
     "execution_count": 73,
     "metadata": {},
     "output_type": "execute_result"
    }
   ],
   "source": [
    "# Q21. Given an array with [11, 22, 11, 31], [25, 33, 31, 28]]. Treat as floats. Find the correlation coefficients.\n",
    "arr = np.array([[11, 22, 11, 31], [25, 33, 31, 28]], dtype=np.float32)\n",
    "np.corrcoef(arr)"
   ]
  }
 ],
 "metadata": {
  "kernelspec": {
   "display_name": "Python 3.10.8 64-bit (microsoft store)",
   "language": "python",
   "name": "python3"
  },
  "language_info": {
   "codemirror_mode": {
    "name": "ipython",
    "version": 3
   },
   "file_extension": ".py",
   "mimetype": "text/x-python",
   "name": "python",
   "nbconvert_exporter": "python",
   "pygments_lexer": "ipython3",
   "version": "3.10.8"
  },
  "orig_nbformat": 4,
  "vscode": {
   "interpreter": {
    "hash": "602ee1658721f7a19ecc36b132ea7457694c6400b87ba051a8adf84368c56df0"
   }
  }
 },
 "nbformat": 4,
 "nbformat_minor": 2
}
