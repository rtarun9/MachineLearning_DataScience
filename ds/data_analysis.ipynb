{
 "cells": [
  {
   "cell_type": "code",
   "execution_count": 457,
   "metadata": {},
   "outputs": [
    {
     "name": "stdout",
     "output_type": "stream",
     "text": [
      "<class 'pandas.core.frame.DataFrame'>\n",
      "(306, 10)\n"
     ]
    }
   ],
   "source": [
    "# Q1. Trends in US Population.\n",
    "\n",
    "import numpy as np\n",
    "import pandas as pd\n",
    "import matplotlib.pyplot as plt\n",
    "import seaborn as sb\n",
    "\n",
    "# 1. Read CSV as data frame.\n",
    "df = pd.read_csv('../data_sets/age_sex.csv')\n",
    "print(type(df))\n",
    "\n",
    "# 2. Shape / size of data frame.\n",
    "print(df.shape)"
   ]
  },
  {
   "cell_type": "code",
   "execution_count": 458,
   "metadata": {},
   "outputs": [
    {
     "name": "stdout",
     "output_type": "stream",
     "text": [
      "              SEX         AGE  CENSUS2010POP  ESTIMATESBASE2010  \\\n",
      "count  306.000000  306.000000   3.060000e+02       3.060000e+02   \n",
      "mean     1.000000   59.303922   4.035889e+06       4.036054e+06   \n",
      "std      0.817834   98.060950   2.140881e+07       2.140968e+07   \n",
      "min      0.000000    0.000000   6.073000e+03       6.075000e+03   \n",
      "25%      0.000000   25.000000   9.987065e+05       9.987415e+05   \n",
      "50%      1.000000   50.500000   2.045286e+06       2.045342e+06   \n",
      "75%      2.000000   76.000000   2.304370e+06       2.304525e+06   \n",
      "max      2.000000  999.000000   3.087455e+08       3.087581e+08   \n",
      "\n",
      "       POPESTIMATE2010  POPESTIMATE2011  POPESTIMATE2012  POPESTIMATE2013  \\\n",
      "count     3.060000e+02     3.060000e+02     3.060000e+02     3.060000e+02   \n",
      "mean      4.043750e+06     4.074756e+06     4.105917e+06     4.136306e+06   \n",
      "std       2.145038e+07     2.161430e+07     2.177900e+07     2.193965e+07   \n",
      "min       6.104000e+03     6.606000e+03     7.459000e+03     8.159000e+03   \n",
      "25%       1.010409e+06     1.045244e+06     1.073482e+06     1.121864e+06   \n",
      "50%       2.047912e+06     2.051284e+06     2.054609e+06     2.050533e+06   \n",
      "75%       2.304142e+06     2.321829e+06     2.335085e+06     2.349450e+06   \n",
      "max       3.093469e+08     3.117189e+08     3.141026e+08     3.164274e+08   \n",
      "\n",
      "       POPESTIMATE2014  POPESTIMATE2015  \n",
      "count     3.060000e+02     3.060000e+02  \n",
      "mean      4.168724e+06     4.201553e+06  \n",
      "std       2.211105e+07     2.228462e+07  \n",
      "min       8.951000e+03     9.577000e+03  \n",
      "25%       1.156036e+06     1.162476e+06  \n",
      "50%       2.060284e+06     2.062285e+06  \n",
      "75%       2.387392e+06     2.415332e+06  \n",
      "max       3.189074e+08     3.214188e+08  \n"
     ]
    }
   ],
   "source": [
    "# 3. Describe the data.\n",
    "print(df.describe())"
   ]
  },
  {
   "cell_type": "code",
   "execution_count": 459,
   "metadata": {},
   "outputs": [
    {
     "name": "stdout",
     "output_type": "stream",
     "text": [
      "Index(['SEX', 'AGE', 'CENSUS2010POP', 'ESTIMATESBASE2010', '2010',\n",
      "       'POPESTIMATE2011', 'POPESTIMATE2012', 'POPESTIMATE2013', '2014',\n",
      "       'POPESTIMATE2015'],\n",
      "      dtype='object')\n"
     ]
    }
   ],
   "source": [
    "# 4. Relabel column years as '2014' and '2010'.\n",
    "df = df.rename(columns={'POPESTIMATE2010' : '2010', 'POPESTIMATE2014' : '2014'})\n",
    "print(df.columns)"
   ]
  },
  {
   "cell_type": "code",
   "execution_count": 460,
   "metadata": {},
   "outputs": [
    {
     "name": "stdout",
     "output_type": "stream",
     "text": [
      "   SEX  AGE  CENSUS2010POP  ESTIMATESBASE2010     2010  POPESTIMATE2011  \\\n",
      "0    0    0        3944153            3944160  3951330          3963087   \n",
      "1    0    1        3978070            3978090  3957888          3966551   \n",
      "2    0    2        4096929            4096939  4090862          3971565   \n",
      "3    0    3        4119040            4119051  4111920          4102470   \n",
      "4    0    4        4063170            4063186  4077551          4122294   \n",
      "5    0    5        4056858            4056872  4064653          4087709   \n",
      "6    0    6        4066381            4066412  4073013          4074993   \n",
      "7    0    7        4030579            4030594  4043046          4083225   \n",
      "8    0    8        4046486            4046497  4025604          4053203   \n",
      "9    0    9        4148353            4148369  4125415          4035710   \n",
      "\n",
      "   POPESTIMATE2012  POPESTIMATE2013     2014  POPESTIMATE2015  \n",
      "0          3926540          3931141  3949775          3978038  \n",
      "1          3977939          3942872  3949776          3968564  \n",
      "2          3980095          3992720  3959664          3966583  \n",
      "3          3983157          3992734  4007079          3974061  \n",
      "4          4112849          3994449  4005716          4020035  \n",
      "5          4132242          4123626  4006900          4018158  \n",
      "6          4097605          4142916  4135930          4019207  \n",
      "7          4084913          4108349  4155326          4148360  \n",
      "8          4093177          4095711  4120903          4167887  \n",
      "9          4063152          4104072  4108349          4133564  \n"
     ]
    }
   ],
   "source": [
    "# 5. Display first 10 rows.\n",
    "print(df.head(10))"
   ]
  },
  {
   "cell_type": "code",
   "execution_count": 461,
   "metadata": {},
   "outputs": [
    {
     "data": {
      "text/html": [
       "<div>\n",
       "<style scoped>\n",
       "    .dataframe tbody tr th:only-of-type {\n",
       "        vertical-align: middle;\n",
       "    }\n",
       "\n",
       "    .dataframe tbody tr th {\n",
       "        vertical-align: top;\n",
       "    }\n",
       "\n",
       "    .dataframe thead th {\n",
       "        text-align: right;\n",
       "    }\n",
       "</style>\n",
       "<table border=\"1\" class=\"dataframe\">\n",
       "  <thead>\n",
       "    <tr style=\"text-align: right;\">\n",
       "      <th></th>\n",
       "      <th>SEX</th>\n",
       "      <th>AGE</th>\n",
       "      <th>CENSUS2010POP</th>\n",
       "      <th>ESTIMATESBASE2010</th>\n",
       "      <th>2010</th>\n",
       "      <th>POPESTIMATE2011</th>\n",
       "      <th>POPESTIMATE2012</th>\n",
       "      <th>POPESTIMATE2013</th>\n",
       "      <th>2014</th>\n",
       "      <th>POPESTIMATE2015</th>\n",
       "    </tr>\n",
       "  </thead>\n",
       "  <tbody>\n",
       "    <tr>\n",
       "      <th>14</th>\n",
       "      <td>0</td>\n",
       "      <td>14</td>\n",
       "      <td>4165982</td>\n",
       "      <td>4166059</td>\n",
       "      <td>4145614</td>\n",
       "      <td>4131501</td>\n",
       "      <td>4135460</td>\n",
       "      <td>4148966</td>\n",
       "      <td>4233839</td>\n",
       "      <td>4185386</td>\n",
       "    </tr>\n",
       "    <tr>\n",
       "      <th>21</th>\n",
       "      <td>0</td>\n",
       "      <td>21</td>\n",
       "      <td>4354294</td>\n",
       "      <td>4354603</td>\n",
       "      <td>4387956</td>\n",
       "      <td>4596166</td>\n",
       "      <td>4632892</td>\n",
       "      <td>4580130</td>\n",
       "      <td>4492373</td>\n",
       "      <td>4456790</td>\n",
       "    </tr>\n",
       "  </tbody>\n",
       "</table>\n",
       "</div>"
      ],
      "text/plain": [
       "    SEX  AGE  CENSUS2010POP  ESTIMATESBASE2010     2010  POPESTIMATE2011  \\\n",
       "14    0   14        4165982            4166059  4145614          4131501   \n",
       "21    0   21        4354294            4354603  4387956          4596166   \n",
       "\n",
       "    POPESTIMATE2012  POPESTIMATE2013     2014  POPESTIMATE2015  \n",
       "14          4135460          4148966  4233839          4185386  \n",
       "21          4632892          4580130  4492373          4456790  "
      ]
     },
     "execution_count": 461,
     "metadata": {},
     "output_type": "execute_result"
    }
   ],
   "source": [
    "# 6. Select 15th and 22nd rows.\n",
    "df.iloc[[14, 21]]"
   ]
  },
  {
   "cell_type": "code",
   "execution_count": 462,
   "metadata": {},
   "outputs": [
    {
     "data": {
      "text/html": [
       "<div>\n",
       "<style scoped>\n",
       "    .dataframe tbody tr th:only-of-type {\n",
       "        vertical-align: middle;\n",
       "    }\n",
       "\n",
       "    .dataframe tbody tr th {\n",
       "        vertical-align: top;\n",
       "    }\n",
       "\n",
       "    .dataframe thead th {\n",
       "        text-align: right;\n",
       "    }\n",
       "</style>\n",
       "<table border=\"1\" class=\"dataframe\">\n",
       "  <thead>\n",
       "    <tr style=\"text-align: right;\">\n",
       "      <th></th>\n",
       "      <th>SEX</th>\n",
       "      <th>AGE</th>\n",
       "      <th>CENSUS2010POP</th>\n",
       "      <th>ESTIMATESBASE2010</th>\n",
       "      <th>2010</th>\n",
       "      <th>POPESTIMATE2011</th>\n",
       "      <th>POPESTIMATE2012</th>\n",
       "      <th>POPESTIMATE2013</th>\n",
       "      <th>2014</th>\n",
       "      <th>POPESTIMATE2015</th>\n",
       "    </tr>\n",
       "  </thead>\n",
       "  <tbody>\n",
       "    <tr>\n",
       "      <th>0</th>\n",
       "      <td>NaN</td>\n",
       "      <td>NaN</td>\n",
       "      <td>NaN</td>\n",
       "      <td>NaN</td>\n",
       "      <td>NaN</td>\n",
       "      <td>NaN</td>\n",
       "      <td>NaN</td>\n",
       "      <td>NaN</td>\n",
       "      <td>NaN</td>\n",
       "      <td>NaN</td>\n",
       "    </tr>\n",
       "    <tr>\n",
       "      <th>1</th>\n",
       "      <td>NaN</td>\n",
       "      <td>inf</td>\n",
       "      <td>0.008599</td>\n",
       "      <td>0.008603</td>\n",
       "      <td>0.001660</td>\n",
       "      <td>0.000874</td>\n",
       "      <td>0.013090</td>\n",
       "      <td>0.002984</td>\n",
       "      <td>2.531790e-07</td>\n",
       "      <td>-0.002382</td>\n",
       "    </tr>\n",
       "    <tr>\n",
       "      <th>2</th>\n",
       "      <td>NaN</td>\n",
       "      <td>1.000000</td>\n",
       "      <td>0.029879</td>\n",
       "      <td>0.029876</td>\n",
       "      <td>0.033597</td>\n",
       "      <td>0.001264</td>\n",
       "      <td>0.000542</td>\n",
       "      <td>0.012643</td>\n",
       "      <td>2.503433e-03</td>\n",
       "      <td>-0.000499</td>\n",
       "    </tr>\n",
       "    <tr>\n",
       "      <th>3</th>\n",
       "      <td>NaN</td>\n",
       "      <td>0.500000</td>\n",
       "      <td>0.005397</td>\n",
       "      <td>0.005397</td>\n",
       "      <td>0.005148</td>\n",
       "      <td>0.032961</td>\n",
       "      <td>0.000769</td>\n",
       "      <td>0.000004</td>\n",
       "      <td>1.197450e-02</td>\n",
       "      <td>0.001885</td>\n",
       "    </tr>\n",
       "    <tr>\n",
       "      <th>4</th>\n",
       "      <td>NaN</td>\n",
       "      <td>0.333333</td>\n",
       "      <td>-0.013564</td>\n",
       "      <td>-0.013563</td>\n",
       "      <td>-0.008358</td>\n",
       "      <td>0.004832</td>\n",
       "      <td>0.032560</td>\n",
       "      <td>0.000430</td>\n",
       "      <td>-3.401480e-04</td>\n",
       "      <td>0.011569</td>\n",
       "    </tr>\n",
       "    <tr>\n",
       "      <th>...</th>\n",
       "      <td>...</td>\n",
       "      <td>...</td>\n",
       "      <td>...</td>\n",
       "      <td>...</td>\n",
       "      <td>...</td>\n",
       "      <td>...</td>\n",
       "      <td>...</td>\n",
       "      <td>...</td>\n",
       "      <td>...</td>\n",
       "      <td>...</td>\n",
       "    </tr>\n",
       "    <tr>\n",
       "      <th>301</th>\n",
       "      <td>0.0</td>\n",
       "      <td>0.010417</td>\n",
       "      <td>-0.273947</td>\n",
       "      <td>-0.274196</td>\n",
       "      <td>-0.279762</td>\n",
       "      <td>-0.262084</td>\n",
       "      <td>-0.255558</td>\n",
       "      <td>-0.248313</td>\n",
       "      <td>-2.980253e-01</td>\n",
       "      <td>-0.232741</td>\n",
       "    </tr>\n",
       "    <tr>\n",
       "      <th>302</th>\n",
       "      <td>0.0</td>\n",
       "      <td>0.010309</td>\n",
       "      <td>-0.316170</td>\n",
       "      <td>-0.315829</td>\n",
       "      <td>-0.306478</td>\n",
       "      <td>-0.298168</td>\n",
       "      <td>-0.280114</td>\n",
       "      <td>-0.275831</td>\n",
       "      <td>-2.639577e-01</td>\n",
       "      <td>-0.317717</td>\n",
       "    </tr>\n",
       "    <tr>\n",
       "      <th>303</th>\n",
       "      <td>0.0</td>\n",
       "      <td>0.010204</td>\n",
       "      <td>-0.285145</td>\n",
       "      <td>-0.285235</td>\n",
       "      <td>-0.305286</td>\n",
       "      <td>-0.326204</td>\n",
       "      <td>-0.315864</td>\n",
       "      <td>-0.298632</td>\n",
       "      <td>-2.962907e-01</td>\n",
       "      <td>-0.279404</td>\n",
       "    </tr>\n",
       "    <tr>\n",
       "      <th>304</th>\n",
       "      <td>0.0</td>\n",
       "      <td>0.010101</td>\n",
       "      <td>0.687550</td>\n",
       "      <td>0.687877</td>\n",
       "      <td>0.728082</td>\n",
       "      <td>0.759378</td>\n",
       "      <td>0.727865</td>\n",
       "      <td>0.732515</td>\n",
       "      <td>7.839284e-01</td>\n",
       "      <td>0.816757</td>\n",
       "    </tr>\n",
       "    <tr>\n",
       "      <th>305</th>\n",
       "      <td>0.0</td>\n",
       "      <td>8.990000</td>\n",
       "      <td>3550.065834</td>\n",
       "      <td>3546.650138</td>\n",
       "      <td>3489.142039</td>\n",
       "      <td>3330.379531</td>\n",
       "      <td>3148.988078</td>\n",
       "      <td>2980.719138</td>\n",
       "      <td>2.790892e+03</td>\n",
       "      <td>2635.937643</td>\n",
       "    </tr>\n",
       "  </tbody>\n",
       "</table>\n",
       "<p>306 rows × 10 columns</p>\n",
       "</div>"
      ],
      "text/plain": [
       "     SEX       AGE  CENSUS2010POP  ESTIMATESBASE2010         2010  \\\n",
       "0    NaN       NaN            NaN                NaN          NaN   \n",
       "1    NaN       inf       0.008599           0.008603     0.001660   \n",
       "2    NaN  1.000000       0.029879           0.029876     0.033597   \n",
       "3    NaN  0.500000       0.005397           0.005397     0.005148   \n",
       "4    NaN  0.333333      -0.013564          -0.013563    -0.008358   \n",
       "..   ...       ...            ...                ...          ...   \n",
       "301  0.0  0.010417      -0.273947          -0.274196    -0.279762   \n",
       "302  0.0  0.010309      -0.316170          -0.315829    -0.306478   \n",
       "303  0.0  0.010204      -0.285145          -0.285235    -0.305286   \n",
       "304  0.0  0.010101       0.687550           0.687877     0.728082   \n",
       "305  0.0  8.990000    3550.065834        3546.650138  3489.142039   \n",
       "\n",
       "     POPESTIMATE2011  POPESTIMATE2012  POPESTIMATE2013          2014  \\\n",
       "0                NaN              NaN              NaN           NaN   \n",
       "1           0.000874         0.013090         0.002984  2.531790e-07   \n",
       "2           0.001264         0.000542         0.012643  2.503433e-03   \n",
       "3           0.032961         0.000769         0.000004  1.197450e-02   \n",
       "4           0.004832         0.032560         0.000430 -3.401480e-04   \n",
       "..               ...              ...              ...           ...   \n",
       "301        -0.262084        -0.255558        -0.248313 -2.980253e-01   \n",
       "302        -0.298168        -0.280114        -0.275831 -2.639577e-01   \n",
       "303        -0.326204        -0.315864        -0.298632 -2.962907e-01   \n",
       "304         0.759378         0.727865         0.732515  7.839284e-01   \n",
       "305      3330.379531      3148.988078      2980.719138  2.790892e+03   \n",
       "\n",
       "     POPESTIMATE2015  \n",
       "0                NaN  \n",
       "1          -0.002382  \n",
       "2          -0.000499  \n",
       "3           0.001885  \n",
       "4           0.011569  \n",
       "..               ...  \n",
       "301        -0.232741  \n",
       "302        -0.317717  \n",
       "303        -0.279404  \n",
       "304         0.816757  \n",
       "305      2635.937643  \n",
       "\n",
       "[306 rows x 10 columns]"
      ]
     },
     "execution_count": 462,
     "metadata": {},
     "output_type": "execute_result"
    }
   ],
   "source": [
    "# 7. Add columns change, percentage change. \n",
    "df.pct_change()"
   ]
  },
  {
   "cell_type": "code",
   "execution_count": 463,
   "metadata": {},
   "outputs": [
    {
     "name": "stdout",
     "output_type": "stream",
     "text": [
      "     SEX  AGE  CENSUS2010POP  ESTIMATESBASE2010     2010  POPESTIMATE2011  \\\n",
      "68     0   68        2323672            2323736  2359816          2654106   \n",
      "69     0   69        2142324            2142381  2167830          2321925   \n",
      "70     0   70        2043121            2043178  2062577          2129707   \n",
      "170    1   68        1087296            1087339  1105699          1246765   \n",
      "171    1   69         994759             994797  1006782          1083646   \n",
      "172    1   70         945611             945642   954073           984933   \n",
      "272    2   68        1236376            1236397  1254117          1407341   \n",
      "273    2   69        1147565            1147584  1161048          1238279   \n",
      "274    2   70        1097510            1097536  1108504          1144774   \n",
      "\n",
      "     POPESTIMATE2012  POPESTIMATE2013     2014  POPESTIMATE2015  \n",
      "68           2548669          2574501  2572359          3436357  \n",
      "69           2612071          2507744  2534295          2532747  \n",
      "70           2282127          2566440  2465438          2492490  \n",
      "170          1196783          1210461  1211278          1623929  \n",
      "171          1222242          1173071  1186872          1188026  \n",
      "172          1060828          1195964  1148508          1162672  \n",
      "272          1351886          1364040  1361081          1812428  \n",
      "273          1389829          1334673  1347423          1344721  \n",
      "274          1221299          1370476  1316930          1329818  \n"
     ]
    }
   ],
   "source": [
    "# 8. Analyse the population changes (67-71) – show “graying of US” aspect \n",
    "print(df.loc[(df['AGE'] > 67) & (df['AGE'] < 71)])"
   ]
  },
  {
   "cell_type": "code",
   "execution_count": 464,
   "metadata": {},
   "outputs": [
    {
     "data": {
      "image/png": "[encoded data removed]",
      "text/plain": [
       "<Figure size 640x480 with 1 Axes>"
      ]
     },
     "metadata": {},
     "output_type": "display_data"
    }
   ],
   "source": [
    "#9. Analyse gender ratio of boys and girls among infants (age =0) \n",
    "\n",
    "a=df.query('AGE==0')\n",
    "male_infants=a.query('SEX==1')\n",
    "female_infants=a.query('SEX==2')\n",
    "\n",
    "headers = male_infants.keys()\n",
    "headers = headers[2:]\n",
    "headers\n",
    "\n",
    "ratios = []\n",
    "for i in headers:\n",
    "  ratios.append(int(male_infants[i]) / int(female_infants[i]))\n",
    "\n",
    "ratios.sort()\n",
    "plt.plot(ratios)\n",
    "plt.ylabel('male-female-ratio')\n",
    "\n",
    "\n",
    "plt.show()"
   ]
  },
  {
   "cell_type": "code",
   "execution_count": 465,
   "metadata": {},
   "outputs": [
    {
     "name": "stdout",
     "output_type": "stream",
     "text": [
      "1.0341470596982398\n",
      "1.0341300002700464\n",
      "1.0339985767322946\n",
      "1.0335002520552767\n",
      "1.0327493769668716\n",
      "1.0322006230043819\n",
      "1.0318353430696021\n",
      "1.031348341261985\n",
      "Years when ratio of females to males in range 2 to 4) :  [0]\n"
     ]
    }
   ],
   "source": [
    "# 10. Find years where the ratio of females to males ranged from 2 to 4. \n",
    "\n",
    "male=df.query('SEX==1')\n",
    "female=df.query('SEX==2')\n",
    "\n",
    "male\n",
    "\n",
    "years = [0]\n",
    "for i in headers:\n",
    "  print(female[i].sum() / male[i].sum())\n",
    "  if int(float(female[i].sum()) / float(male[i].sum())) in range(2, 5):\n",
    "    years.append(i)\n",
    "\n",
    "print(\"Years when ratio of females to males in range 2 to 4) : \", years)"
   ]
  },
  {
   "cell_type": "code",
   "execution_count": 466,
   "metadata": {},
   "outputs": [
    {
     "data": {
      "image/png": "[encoded data removed]",
      "text/plain": [
       "<Figure size 640x480 with 1 Axes>"
      ]
     },
     "metadata": {},
     "output_type": "display_data"
    }
   ],
   "source": [
    "# 11. Plot the gender ratio versus age. \n",
    "\n",
    "from numpy import double\n",
    "\n",
    "\n",
    "ages = []\n",
    "ratios = []\n",
    "\n",
    "for i in range(0, 100):\n",
    "    males= df.query('SEX==1')\n",
    "    females =df.query('SEX==2')\n",
    "\n",
    "    males = males.query('AGE==' + str(i))\n",
    "    females = females.query('AGE==' + str(i))\n",
    "\n",
    "    headers = males.keys()\n",
    "    headers = headers[2:]\n",
    "\n",
    "    r = 0.0\n",
    "    for j in headers:\n",
    "        r += double(double(males[j].sum()) / float(females[j].sum()))\n",
    "\n",
    "    r /= float(len(headers))\n",
    "\n",
    "    ratios.append(r)\n",
    "    ages.append(i)\n",
    "\n",
    "plt.xlabel('Ages')\n",
    "plt.ylabel('Male-Female ratio')\n",
    "plt.plot(ages, ratios)\n",
    "plt.show()"
   ]
  },
  {
   "cell_type": "code",
   "execution_count": 467,
   "metadata": {},
   "outputs": [
    {
     "data": {
      "text/html": [
       "<div>\n",
       "<style scoped>\n",
       "    .dataframe tbody tr th:only-of-type {\n",
       "        vertical-align: middle;\n",
       "    }\n",
       "\n",
       "    .dataframe tbody tr th {\n",
       "        vertical-align: top;\n",
       "    }\n",
       "\n",
       "    .dataframe thead th {\n",
       "        text-align: right;\n",
       "    }\n",
       "</style>\n",
       "<table border=\"1\" class=\"dataframe\">\n",
       "  <thead>\n",
       "    <tr style=\"text-align: right;\">\n",
       "      <th></th>\n",
       "      <th>PLAYER</th>\n",
       "      <th>POSITION</th>\n",
       "      <th>TEAM</th>\n",
       "      <th>SALARY</th>\n",
       "    </tr>\n",
       "  </thead>\n",
       "  <tbody>\n",
       "    <tr>\n",
       "      <th>0</th>\n",
       "      <td>Paul Millsap</td>\n",
       "      <td>PF</td>\n",
       "      <td>Atlanta Hawks</td>\n",
       "      <td>18.671659</td>\n",
       "    </tr>\n",
       "    <tr>\n",
       "      <th>1</th>\n",
       "      <td>Al Horford</td>\n",
       "      <td>C</td>\n",
       "      <td>Atlanta Hawks</td>\n",
       "      <td>12.000000</td>\n",
       "    </tr>\n",
       "    <tr>\n",
       "      <th>2</th>\n",
       "      <td>Tiago Splitter</td>\n",
       "      <td>C</td>\n",
       "      <td>Atlanta Hawks</td>\n",
       "      <td>9.756250</td>\n",
       "    </tr>\n",
       "    <tr>\n",
       "      <th>3</th>\n",
       "      <td>Jeff Teague</td>\n",
       "      <td>PG</td>\n",
       "      <td>Atlanta Hawks</td>\n",
       "      <td>8.000000</td>\n",
       "    </tr>\n",
       "    <tr>\n",
       "      <th>4</th>\n",
       "      <td>Kyle Korver</td>\n",
       "      <td>SG</td>\n",
       "      <td>Atlanta Hawks</td>\n",
       "      <td>5.746479</td>\n",
       "    </tr>\n",
       "    <tr>\n",
       "      <th>...</th>\n",
       "      <td>...</td>\n",
       "      <td>...</td>\n",
       "      <td>...</td>\n",
       "      <td>...</td>\n",
       "    </tr>\n",
       "    <tr>\n",
       "      <th>412</th>\n",
       "      <td>Gary Neal</td>\n",
       "      <td>PG</td>\n",
       "      <td>Washington Wizards</td>\n",
       "      <td>2.139000</td>\n",
       "    </tr>\n",
       "    <tr>\n",
       "      <th>413</th>\n",
       "      <td>DeJuan Blair</td>\n",
       "      <td>C</td>\n",
       "      <td>Washington Wizards</td>\n",
       "      <td>2.000000</td>\n",
       "    </tr>\n",
       "    <tr>\n",
       "      <th>414</th>\n",
       "      <td>Kelly Oubre Jr.</td>\n",
       "      <td>SF</td>\n",
       "      <td>Washington Wizards</td>\n",
       "      <td>1.920240</td>\n",
       "    </tr>\n",
       "    <tr>\n",
       "      <th>415</th>\n",
       "      <td>Garrett Temple</td>\n",
       "      <td>SG</td>\n",
       "      <td>Washington Wizards</td>\n",
       "      <td>1.100602</td>\n",
       "    </tr>\n",
       "    <tr>\n",
       "      <th>416</th>\n",
       "      <td>Jarell Eddie</td>\n",
       "      <td>SG</td>\n",
       "      <td>Washington Wizards</td>\n",
       "      <td>0.561716</td>\n",
       "    </tr>\n",
       "  </tbody>\n",
       "</table>\n",
       "<p>417 rows × 4 columns</p>\n",
       "</div>"
      ],
      "text/plain": [
       "              PLAYER POSITION                TEAM     SALARY\n",
       "0       Paul Millsap       PF       Atlanta Hawks  18.671659\n",
       "1         Al Horford        C       Atlanta Hawks  12.000000\n",
       "2     Tiago Splitter        C       Atlanta Hawks   9.756250\n",
       "3        Jeff Teague       PG       Atlanta Hawks   8.000000\n",
       "4        Kyle Korver       SG       Atlanta Hawks   5.746479\n",
       "..               ...      ...                 ...        ...\n",
       "412        Gary Neal       PG  Washington Wizards   2.139000\n",
       "413     DeJuan Blair        C  Washington Wizards   2.000000\n",
       "414  Kelly Oubre Jr.       SF  Washington Wizards   1.920240\n",
       "415   Garrett Temple       SG  Washington Wizards   1.100602\n",
       "416     Jarell Eddie       SG  Washington Wizards   0.561716\n",
       "\n",
       "[417 rows x 4 columns]"
      ]
     },
     "execution_count": 467,
     "metadata": {},
     "output_type": "execute_result"
    }
   ],
   "source": [
    "# Question 2 > Analysis of NBA\n",
    "\n",
    "# 1. Read CSV file as data frame\n",
    "df = pd.read_csv('../data_sets/nba_salaries.csv')\n",
    "df"
   ]
  },
  {
   "cell_type": "code",
   "execution_count": 468,
   "metadata": {},
   "outputs": [
    {
     "name": "stdout",
     "output_type": "stream",
     "text": [
      "(417, 4)\n",
      "              PLAYER POSITION                    TEAM     SALARY\n",
      "68      Aaron Brooks       PG           Chicago Bulls   2.250000\n",
      "291     Aaron Gordon       PF           Orlando Magic   4.171680\n",
      "59    Aaron Harrison       SG       Charlotte Hornets   0.525093\n",
      "235    Adreian Payne       PF  Minnesota Timberwolves   1.938840\n",
      "1         Al Horford        C           Atlanta Hawks  12.000000\n",
      "..               ...      ...                     ...        ...\n",
      "95   Wilson Chandler       SF          Denver Nuggets  10.449438\n",
      "233      Zach LaVine       PG  Minnesota Timberwolves   2.148360\n",
      "181    Zach Randolph       PF       Memphis Grizzlies   9.638555\n",
      "86     Zaza Pachulia        C        Dallas Mavericks   5.200000\n",
      "26      Zoran Dragic       SG          Boston Celtics   1.706225\n",
      "\n",
      "[417 rows x 4 columns]\n"
     ]
    }
   ],
   "source": [
    "# 2. Find size\n",
    "print(df.shape)\n",
    "\n",
    "# 3. Sort on player \n",
    "print(df.sort_values('PLAYER'))"
   ]
  },
  {
   "cell_type": "code",
   "execution_count": 469,
   "metadata": {},
   "outputs": [
    {
     "name": "stdout",
     "output_type": "stream",
     "text": [
      "                     PLAYER POSITION                 TEAM     SALARY\n",
      "267  Thanasis Antetokounmpo       SF      New York Knicks   0.030888\n",
      "327          Cory Jefferson       PF         Phoenix Suns   0.049709\n",
      "326            Jordan McRae       SG         Phoenix Suns   0.049709\n",
      "324         Orlando Johnson       SG         Phoenix Suns   0.055722\n",
      "325            Phil Pressey       PG         Phoenix Suns   0.055722\n",
      "..                      ...      ...                  ...        ...\n",
      "131           Dwight Howard        C      Houston Rockets  22.359364\n",
      "255         Carmelo Anthony       SF      New York Knicks  22.875000\n",
      "72             LeBron James       SF  Cleveland Cavaliers  22.970500\n",
      "29              Joe Johnson       SF        Brooklyn Nets  24.894863\n",
      "169             Kobe Bryant       SF   Los Angeles Lakers  25.000000\n",
      "\n",
      "[417 rows x 4 columns]\n",
      "                     PLAYER POSITION                 TEAM     SALARY\n",
      "169             Kobe Bryant       SF   Los Angeles Lakers  25.000000\n",
      "29              Joe Johnson       SF        Brooklyn Nets  24.894863\n",
      "72             LeBron James       SF  Cleveland Cavaliers  22.970500\n",
      "255         Carmelo Anthony       SF      New York Knicks  22.875000\n",
      "131           Dwight Howard        C      Houston Rockets  22.359364\n",
      "..                      ...      ...                  ...        ...\n",
      "200         Elliot Williams       SG    Memphis Grizzlies   0.055722\n",
      "324         Orlando Johnson       SG         Phoenix Suns   0.055722\n",
      "327          Cory Jefferson       PF         Phoenix Suns   0.049709\n",
      "326            Jordan McRae       SG         Phoenix Suns   0.049709\n",
      "267  Thanasis Antetokounmpo       SF      New York Knicks   0.030888\n",
      "\n",
      "[417 rows x 4 columns]\n"
     ]
    }
   ],
   "source": [
    "# 4. Sort on salary(increasing and decreasing) \n",
    "print(df.sort_values('SALARY', ascending = True))\n",
    "print(df.sort_values('SALARY', ascending = False))"
   ]
  },
  {
   "cell_type": "code",
   "execution_count": 470,
   "metadata": {},
   "outputs": [
    {
     "name": "stdout",
     "output_type": "stream",
     "text": [
      "Index(['PLAYER', 'POSITION', 'TEAM', 'SALARY'], dtype='object')\n",
      "Index(['PLAYER', 'POSITION', 'TEAM', 'SALARIES'], dtype='object')\n"
     ]
    }
   ],
   "source": [
    "# 5. Relabel column salary as “SALARY\n",
    "print(df.columns)\n",
    "df.rename(columns={'SALARY': 'SALARIES'}, inplace=True)\n",
    "print(df.columns)"
   ]
  },
  {
   "cell_type": "code",
   "execution_count": 471,
   "metadata": {},
   "outputs": [
    {
     "name": "stdout",
     "output_type": "stream",
     "text": [
      "           PLAYER POSITION           TEAM   SALARIES\n",
      "0    Paul Millsap       PF  Atlanta Hawks  18.671659\n",
      "1      Al Horford        C  Atlanta Hawks  12.000000\n",
      "2  Tiago Splitter        C  Atlanta Hawks   9.756250\n",
      "3     Jeff Teague       PG  Atlanta Hawks   8.000000\n",
      "4     Kyle Korver       SG  Atlanta Hawks   5.746479\n"
     ]
    }
   ],
   "source": [
    "# 6. Display first 5 rows\n",
    "print(df.head())"
   ]
  },
  {
   "cell_type": "code",
   "execution_count": 472,
   "metadata": {},
   "outputs": [
    {
     "name": "stdout",
     "output_type": "stream",
     "text": [
      "            PLAYER POSITION            TEAM  SALARIES\n",
      "3      Jeff Teague       PG   Atlanta Hawks   8.00000\n",
      "10  Walter Tavares        C   Atlanta Hawks   1.00000\n",
      "22    Kelly Olynyk        C  Boston Celtics   2.16516\n"
     ]
    }
   ],
   "source": [
    "# 7. Select 3rd, 10th and 22nd rows.\n",
    "print(df.iloc[[3, 10, 22]])  "
   ]
  },
  {
   "cell_type": "code",
   "execution_count": 473,
   "metadata": {},
   "outputs": [
    {
     "name": "stdout",
     "output_type": "stream",
     "text": [
      "              PLAYER POSITION                 TEAM   SALARIES\n",
      "169      Kobe Bryant       SF   Los Angeles Lakers  25.000000\n",
      "29       Joe Johnson       SF        Brooklyn Nets  24.894863\n",
      "72      LeBron James       SF  Cleveland Cavaliers  22.970500\n",
      "255  Carmelo Anthony       SF      New York Knicks  22.875000\n",
      "131    Dwight Howard        C      Houston Rockets  22.359364\n"
     ]
    }
   ],
   "source": [
    "# 8. Top 5 highest paid.\n",
    "print(df.sort_values('SALARIES', ascending=False).head())"
   ]
  },
  {
   "cell_type": "code",
   "execution_count": 474,
   "metadata": {},
   "outputs": [
    {
     "name": "stdout",
     "output_type": "stream",
     "text": [
      "             PLAYER POSITION                TEAM   SALARIES\n",
      "0      Paul Millsap       PF       Atlanta Hawks  18.671659\n",
      "1        Al Horford        C       Atlanta Hawks  12.000000\n",
      "29      Joe Johnson       SF       Brooklyn Nets  24.894863\n",
      "30   Thaddeus Young       PF       Brooklyn Nets  11.235955\n",
      "42     Al Jefferson        C   Charlotte Hornets  13.500000\n",
      "..              ...      ...                 ...        ...\n",
      "368   DeMar DeRozan       SG     Toronto Raptors  10.050000\n",
      "383  Gordon Hayward       SF           Utah Jazz  15.409570\n",
      "400       John Wall       PG  Washington Wizards  15.851950\n",
      "401    Nene Hilario        C  Washington Wizards  13.000000\n",
      "402   Marcin Gortat        C  Washington Wizards  11.217391\n",
      "\n",
      "[69 rows x 4 columns]\n"
     ]
    }
   ],
   "source": [
    "# 9. List those earned more than 10m USD. \n",
    "print(df[df['SALARIES'] > 10])"
   ]
  },
  {
   "cell_type": "code",
   "execution_count": 475,
   "metadata": {},
   "outputs": [
    {
     "name": "stdout",
     "output_type": "stream",
     "text": [
      "            PLAYER POSITION                   TEAM   SALARIES\n",
      "121  Stephen Curry       PG  Golden State Warriors  11.370786\n"
     ]
    }
   ],
   "source": [
    "# 10. Earnings of Stephen Curry \n",
    "print(df[df['PLAYER']=='Stephen Curry'])"
   ]
  },
  {
   "cell_type": "code",
   "execution_count": 476,
   "metadata": {},
   "outputs": [
    {
     "name": "stdout",
     "output_type": "stream",
     "text": [
      "                PLAYER POSITION                   TEAM   SALARIES\n",
      "60        Derrick Rose       PG          Chicago Bulls  20.093064\n",
      "74        Kyrie Irving       PG    Cleveland Cavaliers  16.407501\n",
      "156         Chris Paul       PG   Los Angeles Clippers  21.468695\n",
      "269  Russell Westbrook       PG  Oklahoma City Thunder  16.744218\n",
      "400          John Wall       PG     Washington Wizards  15.851950\n"
     ]
    }
   ],
   "source": [
    "# 11. All Point Guards(PG) salary more than 15m US\n",
    "print(df[(df['POSITION'] == 'PG') & (df['SALARIES'] >= 15)])"
   ]
  },
  {
   "cell_type": "code",
   "execution_count": 477,
   "metadata": {},
   "outputs": [
    {
     "name": "stdout",
     "output_type": "stream",
     "text": [
      "                PLAYER POSITION                   TEAM   SALARIES\n",
      "117      Klay Thompson       SG  Golden State Warriors  15.501000\n",
      "118     Draymond Green       PF  Golden State Warriors  14.260870\n",
      "119       Andrew Bogut        C  Golden State Warriors  13.800000\n",
      "120     Andre Iguodala       SF  Golden State Warriors  11.710456\n",
      "121      Stephen Curry       PG  Golden State Warriors  11.370786\n",
      "122     Jason Thompson       PF  Golden State Warriors   7.008475\n",
      "123   Shaun Livingston       PG  Golden State Warriors   5.543725\n",
      "124    Harrison Barnes       SF  Golden State Warriors   3.873398\n",
      "125  Marreese Speights        C  Golden State Warriors   3.815000\n",
      "126    Leandro Barbosa       SG  Golden State Warriors   2.500000\n",
      "127       Festus Ezeli        C  Golden State Warriors   2.008748\n",
      "128       Brandon Rush       SF  Golden State Warriors   1.270964\n",
      "129       Kevon Looney       SF  Golden State Warriors   1.131960\n",
      "130   Anderson Varejao       PF  Golden State Warriors   0.289755\n"
     ]
    }
   ],
   "source": [
    "# 12. Team “ Golden State Warriors” \n",
    "print(df[df['TEAM'] == 'Golden State Warriors'])"
   ]
  },
  {
   "cell_type": "code",
   "execution_count": 478,
   "metadata": {},
   "outputs": [
    {
     "name": "stdout",
     "output_type": "stream",
     "text": [
      "                          SALARIES\n",
      "TEAM                              \n",
      "Atlanta Hawks            69.573103\n",
      "Boston Celtics           50.285499\n",
      "Brooklyn Nets            57.306976\n",
      "Charlotte Hornets        84.102397\n",
      "Chicago Bulls            78.820890\n",
      "Cleveland Cavaliers     102.312412\n",
      "Dallas Mavericks         65.762559\n",
      "Denver Nuggets           62.429404\n",
      "Detroit Pistons          42.211760\n",
      "Golden State Warriors    94.085137\n",
      "Houston Rockets          85.285837\n",
      "Indiana Pacers           62.695023\n",
      "Los Angeles Clippers     66.074113\n",
      "Los Angeles Lakers       68.607944\n",
      "Memphis Grizzlies        93.796439\n",
      "Miami Heat               81.528667\n",
      "Milwaukee Bucks          52.258355\n",
      "Minnesota Timberwolves   65.847421\n",
      "New Orleans Pelicans     80.514606\n",
      "New York Knicks          69.404994\n",
      "Oklahoma City Thunder    96.832165\n",
      "Orlando Magic            77.623940\n",
      "Philadelphia 76ers       42.481345\n",
      "Phoenix Suns             50.520815\n",
      "Portland Trail Blazers   45.446878\n",
      "Sacramento Kings         68.384890\n",
      "San Antonio Spurs        84.652074\n",
      "Toronto Raptors          74.672620\n",
      "Utah Jazz                52.631878\n",
      "Washington Wizards       90.047498\n"
     ]
    },
    {
     "name": "stderr",
     "output_type": "stream",
     "text": [
      "C:\\Users\\Tarun\\AppData\\Local\\Temp\\ipykernel_3016\\2273766719.py:3: FutureWarning: The default value of numeric_only in DataFrameGroupBy.sum is deprecated. In a future version, numeric_only will default to False. Either specify numeric_only or select only columns which should be valid for the function.\n",
      "  x = df.groupby('TEAM').sum()\n"
     ]
    }
   ],
   "source": [
    "# 13. How much money did each team pay for its players' salaries? (We have to group the rows by TEAM  and then sum the salaries of the groups.) \n",
    "\n",
    "x = df.groupby('TEAM').sum()\n",
    "print(x)"
   ]
  },
  {
   "cell_type": "code",
   "execution_count": 479,
   "metadata": {},
   "outputs": [
    {
     "data": {
      "text/html": [
       "<div>\n",
       "<style scoped>\n",
       "    .dataframe tbody tr th:only-of-type {\n",
       "        vertical-align: middle;\n",
       "    }\n",
       "\n",
       "    .dataframe tbody tr th {\n",
       "        vertical-align: top;\n",
       "    }\n",
       "\n",
       "    .dataframe thead th {\n",
       "        text-align: right;\n",
       "    }\n",
       "</style>\n",
       "<table border=\"1\" class=\"dataframe\">\n",
       "  <thead>\n",
       "    <tr style=\"text-align: right;\">\n",
       "      <th></th>\n",
       "      <th>PLAYER</th>\n",
       "      <th>TEAM</th>\n",
       "      <th>SALARIES</th>\n",
       "    </tr>\n",
       "    <tr>\n",
       "      <th>POSITION</th>\n",
       "      <th></th>\n",
       "      <th></th>\n",
       "      <th></th>\n",
       "    </tr>\n",
       "  </thead>\n",
       "  <tbody>\n",
       "    <tr>\n",
       "      <th>C</th>\n",
       "      <td>69</td>\n",
       "      <td>69</td>\n",
       "      <td>69</td>\n",
       "    </tr>\n",
       "    <tr>\n",
       "      <th>PF</th>\n",
       "      <td>85</td>\n",
       "      <td>85</td>\n",
       "      <td>85</td>\n",
       "    </tr>\n",
       "    <tr>\n",
       "      <th>PG</th>\n",
       "      <td>85</td>\n",
       "      <td>85</td>\n",
       "      <td>85</td>\n",
       "    </tr>\n",
       "    <tr>\n",
       "      <th>SF</th>\n",
       "      <td>82</td>\n",
       "      <td>82</td>\n",
       "      <td>82</td>\n",
       "    </tr>\n",
       "    <tr>\n",
       "      <th>SG</th>\n",
       "      <td>96</td>\n",
       "      <td>96</td>\n",
       "      <td>96</td>\n",
       "    </tr>\n",
       "  </tbody>\n",
       "</table>\n",
       "</div>"
      ],
      "text/plain": [
       "          PLAYER  TEAM  SALARIES\n",
       "POSITION                        \n",
       "C             69    69        69\n",
       "PF            85    85        85\n",
       "PG            85    85        85\n",
       "SF            82    82        82\n",
       "SG            96    96        96"
      ]
     },
     "execution_count": 479,
     "metadata": {},
     "output_type": "execute_result"
    }
   ],
   "source": [
    "# 14. How many NBA players were there in each of the five positions? (Classify by POSITION , and count – use grouping). \n",
    "\n",
    "x = df.groupby('POSITION').count()\n",
    "x"
   ]
  },
  {
   "cell_type": "code",
   "execution_count": 480,
   "metadata": {},
   "outputs": [
    {
     "data": {
      "text/plain": [
       "POSITION\n",
       "C     6.082913\n",
       "PF    4.951344\n",
       "PG    5.165487\n",
       "SF    5.532675\n",
       "SG    3.988195\n",
       "Name: SALARIES, dtype: float64"
      ]
     },
     "execution_count": 480,
     "metadata": {},
     "output_type": "execute_result"
    }
   ],
   "source": [
    "# 15. What was the average salary of the players at each of the five positions?(Group by POSITION and take the mean of the salaries). \n",
    "\n",
    "x = df.groupby('POSITION')['SALARIES'].mean()\n",
    "x"
   ]
  },
  {
   "cell_type": "code",
   "execution_count": 481,
   "metadata": {},
   "outputs": [
    {
     "name": "stdout",
     "output_type": "stream",
     "text": [
      "       Population Count\n",
      "count      1.450000e+02\n",
      "mean       1.945918e+05\n",
      "std        2.283272e+05\n",
      "min        1.356000e+03\n",
      "25%        3.646300e+04\n",
      "50%        1.044620e+05\n",
      "75%        2.884600e+05\n",
      "max        1.628605e+06 \n",
      "\n",
      "Population count: 28215807\n"
     ]
    }
   ],
   "source": [
    "# Q3. Education and income of Californian Adults.\n",
    "\n",
    "# 1. Analyze data for year 2014\n",
    "df = pd.read_csv('../data_sets/educ_inc.csv')\n",
    "y_2014 = df[df['Year'] == '1/1/14 0:00']\n",
    "print(y_2014.describe(), '\\n')\n",
    "\n",
    "print(\"Population count:\", y_2014['Population Count'].sum())\n"
   ]
  },
  {
   "cell_type": "code",
   "execution_count": 482,
   "metadata": {},
   "outputs": [
    {
     "name": "stdout",
     "output_type": "stream",
     "text": [
      "       Population Count\n",
      "count      8.920000e+02\n",
      "mean       2.024432e+05\n",
      "std        2.170824e+05\n",
      "min        1.398000e+03\n",
      "25%        5.037750e+04\n",
      "50%        1.141920e+05\n",
      "75%        3.061928e+05\n",
      "max        1.643095e+06\n"
     ]
    },
    {
     "data": {
      "text/html": [
       "<div>\n",
       "<style scoped>\n",
       "    .dataframe tbody tr th:only-of-type {\n",
       "        vertical-align: middle;\n",
       "    }\n",
       "\n",
       "    .dataframe tbody tr th {\n",
       "        vertical-align: top;\n",
       "    }\n",
       "\n",
       "    .dataframe thead th {\n",
       "        text-align: right;\n",
       "    }\n",
       "</style>\n",
       "<table border=\"1\" class=\"dataframe\">\n",
       "  <thead>\n",
       "    <tr style=\"text-align: right;\">\n",
       "      <th></th>\n",
       "      <th>Year</th>\n",
       "      <th>Age</th>\n",
       "      <th>Gender</th>\n",
       "      <th>Educational Attainment</th>\n",
       "      <th>Personal Income</th>\n",
       "      <th>Population Count</th>\n",
       "    </tr>\n",
       "  </thead>\n",
       "  <tbody>\n",
       "    <tr>\n",
       "      <th>2</th>\n",
       "      <td>1/1/08 0:00</td>\n",
       "      <td>65 to 80+</td>\n",
       "      <td>Male</td>\n",
       "      <td>College, less than 4-yr degree</td>\n",
       "      <td>A: 0 to 4,999</td>\n",
       "      <td>1923</td>\n",
       "    </tr>\n",
       "    <tr>\n",
       "      <th>3</th>\n",
       "      <td>1/1/08 0:00</td>\n",
       "      <td>65 to 80+</td>\n",
       "      <td>Female</td>\n",
       "      <td>No high school diploma</td>\n",
       "      <td>H: 75,000 and over</td>\n",
       "      <td>1981</td>\n",
       "    </tr>\n",
       "    <tr>\n",
       "      <th>9</th>\n",
       "      <td>1/1/08 0:00</td>\n",
       "      <td>18 to 64</td>\n",
       "      <td>Female</td>\n",
       "      <td>No high school diploma</td>\n",
       "      <td>H: 75,000 and over</td>\n",
       "      <td>4233</td>\n",
       "    </tr>\n",
       "    <tr>\n",
       "      <th>11</th>\n",
       "      <td>1/1/08 0:00</td>\n",
       "      <td>65 to 80+</td>\n",
       "      <td>Male</td>\n",
       "      <td>No high school diploma</td>\n",
       "      <td>H: 75,000 and over</td>\n",
       "      <td>5801</td>\n",
       "    </tr>\n",
       "    <tr>\n",
       "      <th>16</th>\n",
       "      <td>1/1/08 0:00</td>\n",
       "      <td>65 to 80+</td>\n",
       "      <td>Female</td>\n",
       "      <td>No high school diploma</td>\n",
       "      <td>F: 35,000 to 49,999</td>\n",
       "      <td>8109</td>\n",
       "    </tr>\n",
       "    <tr>\n",
       "      <th>...</th>\n",
       "      <td>...</td>\n",
       "      <td>...</td>\n",
       "      <td>...</td>\n",
       "      <td>...</td>\n",
       "      <td>...</td>\n",
       "      <td>...</td>\n",
       "    </tr>\n",
       "    <tr>\n",
       "      <th>1021</th>\n",
       "      <td>1/1/14 0:00</td>\n",
       "      <td>18 to 64</td>\n",
       "      <td>Female</td>\n",
       "      <td>High school or equivalent</td>\n",
       "      <td>A: 0 to 4,999</td>\n",
       "      <td>670294</td>\n",
       "    </tr>\n",
       "    <tr>\n",
       "      <th>1022</th>\n",
       "      <td>1/1/14 0:00</td>\n",
       "      <td>18 to 64</td>\n",
       "      <td>Male</td>\n",
       "      <td>Bachelor's degree or higher</td>\n",
       "      <td>G: 50,000 to 74,999</td>\n",
       "      <td>682425</td>\n",
       "    </tr>\n",
       "    <tr>\n",
       "      <th>1023</th>\n",
       "      <td>1/1/14 0:00</td>\n",
       "      <td>18 to 64</td>\n",
       "      <td>Female</td>\n",
       "      <td>No high school diploma</td>\n",
       "      <td>A: 0 to 4,999</td>\n",
       "      <td>723208</td>\n",
       "    </tr>\n",
       "    <tr>\n",
       "      <th>1024</th>\n",
       "      <td>1/1/14 0:00</td>\n",
       "      <td>18 to 64</td>\n",
       "      <td>Female</td>\n",
       "      <td>Bachelor's degree or higher</td>\n",
       "      <td>H: 75,000 and over</td>\n",
       "      <td>953282</td>\n",
       "    </tr>\n",
       "    <tr>\n",
       "      <th>1025</th>\n",
       "      <td>1/1/14 0:00</td>\n",
       "      <td>18 to 64</td>\n",
       "      <td>Male</td>\n",
       "      <td>Bachelor's degree or higher</td>\n",
       "      <td>H: 75,000 and over</td>\n",
       "      <td>1628605</td>\n",
       "    </tr>\n",
       "  </tbody>\n",
       "</table>\n",
       "<p>892 rows × 6 columns</p>\n",
       "</div>"
      ],
      "text/plain": [
       "             Year        Age  Gender          Educational Attainment  \\\n",
       "2     1/1/08 0:00  65 to 80+    Male  College, less than 4-yr degree   \n",
       "3     1/1/08 0:00  65 to 80+  Female          No high school diploma   \n",
       "9     1/1/08 0:00   18 to 64  Female          No high school diploma   \n",
       "11    1/1/08 0:00  65 to 80+    Male          No high school diploma   \n",
       "16    1/1/08 0:00  65 to 80+  Female          No high school diploma   \n",
       "...           ...        ...     ...                             ...   \n",
       "1021  1/1/14 0:00   18 to 64  Female       High school or equivalent   \n",
       "1022  1/1/14 0:00   18 to 64    Male     Bachelor's degree or higher   \n",
       "1023  1/1/14 0:00   18 to 64  Female          No high school diploma   \n",
       "1024  1/1/14 0:00   18 to 64  Female     Bachelor's degree or higher   \n",
       "1025  1/1/14 0:00   18 to 64    Male     Bachelor's degree or higher   \n",
       "\n",
       "          Personal Income  Population Count  \n",
       "2           A: 0 to 4,999              1923  \n",
       "3      H: 75,000 and over              1981  \n",
       "9      H: 75,000 and over              4233  \n",
       "11     H: 75,000 and over              5801  \n",
       "16    F: 35,000 to 49,999              8109  \n",
       "...                   ...               ...  \n",
       "1021        A: 0 to 4,999            670294  \n",
       "1022  G: 50,000 to 74,999            682425  \n",
       "1023        A: 0 to 4,999            723208  \n",
       "1024   H: 75,000 and over            953282  \n",
       "1025   H: 75,000 and over           1628605  \n",
       "\n",
       "[892 rows x 6 columns]"
      ]
     },
     "execution_count": 482,
     "metadata": {},
     "output_type": "execute_result"
    }
   ],
   "source": [
    "# 2. Consider adults whose age is > 17.\n",
    "over_17 = df[df['Age'] != '00 to 17']\n",
    "print(over_17.describe())\n",
    "\n",
    "over_17"
   ]
  },
  {
   "cell_type": "code",
   "execution_count": 483,
   "metadata": {},
   "outputs": [
    {
     "data": {
      "text/plain": [
       "Educational Attainment\n",
       "Bachelor's degree or higher       54617676\n",
       "College, less than 4-yr degree    52137494\n",
       "High school or equivalent         42942926\n",
       "No high school diploma            40668871\n",
       "Name: Population Count, dtype: int64"
      ]
     },
     "execution_count": 483,
     "metadata": {},
     "output_type": "execute_result"
    }
   ],
   "source": [
    "# 3. Group the table by Educational Attainmetn and sum population count in each category.\n",
    "df.groupby('Educational Attainment')['Population Count'].sum()"
   ]
  },
  {
   "cell_type": "code",
   "execution_count": 484,
   "metadata": {},
   "outputs": [
    {
     "name": "stdout",
     "output_type": "stream",
     "text": [
      "Percentage distribution:  Educational Attainment\n",
      "Bachelor's degree or higher       0.286907\n",
      "College, less than 4-yr degree    0.273879\n",
      "High school or equivalent         0.225580\n",
      "No high school diploma            0.213634\n",
      "Name: Population Count, dtype: float64\n"
     ]
    }
   ],
   "source": [
    "# 4. Analyse percentage distribution of educational attainment among adult californions.\n",
    "ed =  df.groupby('Educational Attainment')\n",
    "\n",
    "total = df.groupby('Educational Attainment')['Population Count'].sum().sum()\n",
    "\n",
    "print(\"Percentage distribution: \", df.groupby('Educational Attainment')['Population Count'].sum() / total)"
   ]
  },
  {
   "cell_type": "code",
   "execution_count": 485,
   "metadata": {},
   "outputs": [
    {
     "name": "stderr",
     "output_type": "stream",
     "text": [
      "C:\\Users\\Tarun\\AppData\\Local\\Temp\\ipykernel_3016\\2711183608.py:3: FutureWarning: The default value of numeric_only in DataFrameGroupBy.mean is deprecated. In a future version, numeric_only will default to False. Either specify numeric_only or select only columns which should be valid for the function.\n",
      "  pd.pivot_table(df, index=['Educational Attainment'], columns=['Personal Income'])\n"
     ]
    },
    {
     "data": {
      "text/html": [
       "<div>\n",
       "<style scoped>\n",
       "    .dataframe tbody tr th:only-of-type {\n",
       "        vertical-align: middle;\n",
       "    }\n",
       "\n",
       "    .dataframe tbody tr th {\n",
       "        vertical-align: top;\n",
       "    }\n",
       "\n",
       "    .dataframe thead tr th {\n",
       "        text-align: left;\n",
       "    }\n",
       "\n",
       "    .dataframe thead tr:last-of-type th {\n",
       "        text-align: right;\n",
       "    }\n",
       "</style>\n",
       "<table border=\"1\" class=\"dataframe\">\n",
       "  <thead>\n",
       "    <tr>\n",
       "      <th></th>\n",
       "      <th colspan=\"8\" halign=\"left\">Population Count</th>\n",
       "    </tr>\n",
       "    <tr>\n",
       "      <th>Personal Income</th>\n",
       "      <th>A: 0 to 4,999</th>\n",
       "      <th>B: 5,000 to 9,999</th>\n",
       "      <th>C: 10,000 to 14,999</th>\n",
       "      <th>D: 15,000 to 24,999</th>\n",
       "      <th>E: 25,000 to 34,999</th>\n",
       "      <th>F: 35,000 to 49,999</th>\n",
       "      <th>G: 50,000 to 74,999</th>\n",
       "      <th>H: 75,000 and over</th>\n",
       "    </tr>\n",
       "    <tr>\n",
       "      <th>Educational Attainment</th>\n",
       "      <th></th>\n",
       "      <th></th>\n",
       "      <th></th>\n",
       "      <th></th>\n",
       "      <th></th>\n",
       "      <th></th>\n",
       "      <th></th>\n",
       "      <th></th>\n",
       "    </tr>\n",
       "  </thead>\n",
       "  <tbody>\n",
       "    <tr>\n",
       "      <th>Bachelor's degree or higher</th>\n",
       "      <td>105300.233333</td>\n",
       "      <td>80449.571429</td>\n",
       "      <td>92522.000000</td>\n",
       "      <td>171897.300000</td>\n",
       "      <td>170546.931034</td>\n",
       "      <td>261748.678571</td>\n",
       "      <td>385567.928571</td>\n",
       "      <td>630872.344828</td>\n",
       "    </tr>\n",
       "    <tr>\n",
       "      <th>College, less than 4-yr degree</th>\n",
       "      <td>164427.527778</td>\n",
       "      <td>146468.314286</td>\n",
       "      <td>163562.970588</td>\n",
       "      <td>248059.527778</td>\n",
       "      <td>237345.233333</td>\n",
       "      <td>259036.310345</td>\n",
       "      <td>229303.379310</td>\n",
       "      <td>183386.896552</td>\n",
       "    </tr>\n",
       "    <tr>\n",
       "      <th>High school or equivalent</th>\n",
       "      <td>203526.142857</td>\n",
       "      <td>123251.916667</td>\n",
       "      <td>154529.000000</td>\n",
       "      <td>268088.312500</td>\n",
       "      <td>203631.333333</td>\n",
       "      <td>200332.285714</td>\n",
       "      <td>141089.285714</td>\n",
       "      <td>72693.392857</td>\n",
       "    </tr>\n",
       "    <tr>\n",
       "      <th>No high school diploma</th>\n",
       "      <td>403794.357143</td>\n",
       "      <td>121576.047619</td>\n",
       "      <td>131354.500000</td>\n",
       "      <td>173778.230769</td>\n",
       "      <td>92598.424242</td>\n",
       "      <td>58774.787879</td>\n",
       "      <td>31003.833333</td>\n",
       "      <td>14755.500000</td>\n",
       "    </tr>\n",
       "  </tbody>\n",
       "</table>\n",
       "</div>"
      ],
      "text/plain": [
       "                               Population Count                    \\\n",
       "Personal Income                   A: 0 to 4,999 B: 5,000 to 9,999   \n",
       "Educational Attainment                                              \n",
       "Bachelor's degree or higher       105300.233333      80449.571429   \n",
       "College, less than 4-yr degree    164427.527778     146468.314286   \n",
       "High school or equivalent         203526.142857     123251.916667   \n",
       "No high school diploma            403794.357143     121576.047619   \n",
       "\n",
       "                                                                        \\\n",
       "Personal Income                C: 10,000 to 14,999 D: 15,000 to 24,999   \n",
       "Educational Attainment                                                   \n",
       "Bachelor's degree or higher           92522.000000       171897.300000   \n",
       "College, less than 4-yr degree       163562.970588       248059.527778   \n",
       "High school or equivalent            154529.000000       268088.312500   \n",
       "No high school diploma               131354.500000       173778.230769   \n",
       "\n",
       "                                                                        \\\n",
       "Personal Income                E: 25,000 to 34,999 F: 35,000 to 49,999   \n",
       "Educational Attainment                                                   \n",
       "Bachelor's degree or higher          170546.931034       261748.678571   \n",
       "College, less than 4-yr degree       237345.233333       259036.310345   \n",
       "High school or equivalent            203631.333333       200332.285714   \n",
       "No high school diploma                92598.424242        58774.787879   \n",
       "\n",
       "                                                                       \n",
       "Personal Income                G: 50,000 to 74,999 H: 75,000 and over  \n",
       "Educational Attainment                                                 \n",
       "Bachelor's degree or higher          385567.928571      630872.344828  \n",
       "College, less than 4-yr degree       229303.379310      183386.896552  \n",
       "High school or equivalent            141089.285714       72693.392857  \n",
       "No high school diploma                31003.833333       14755.500000  "
      ]
     },
     "execution_count": 485,
     "metadata": {},
     "output_type": "execute_result"
    }
   ],
   "source": [
    "# 5. Using pivot , get a contingency table (a table of counts) of adult Californians cross-classified by Educational Attainment and Personal Income.\n",
    "\n",
    "pd.pivot_table(df, index=['Educational Attainment'], columns=['Personal Income'])"
   ]
  },
  {
   "cell_type": "code",
   "execution_count": 486,
   "metadata": {},
   "outputs": [
    {
     "data": {
      "image/png": "[encoded data removed]",
      "text/plain": [
       "<Figure size 640x480 with 1 Axes>"
      ]
     },
     "metadata": {},
     "output_type": "display_data"
    }
   ],
   "source": [
    "# 6.Draw a bar chart to compare the personal income distributions of adult Californians who have no high diploma with those who have completed a Bachelor's degree or higher.  (The difference in the distributions would be striking. There is a clear positive association between educational attainment and personal income). \n",
    "\n",
    "incomes = [\n",
    "'A: 0 to 4,999',\n",
    "'B: 5,000 to 9,999',\n",
    "'C: 10,000 to 14,999',\n",
    "'D: 15,000 to 24,999',\n",
    "'E: 25,000 to 34,999',\n",
    "'F: 35,000 to 49,999',\n",
    "'G: 50,000 to 74,999',\n",
    "'H: 75,000 and over'\n",
    "]\n",
    "\n",
    "no_hs_degree =       df[df[\"Educational Attainment\"] == \"No high school diploma\"]\n",
    "bachelos_or_higher = df[df[\"Educational Attainment\"] == \"Bachelor's degree or higher\"]\n",
    "\n",
    "hs_count = []\n",
    "bs_count = []\n",
    "\n",
    "for i in incomes:\n",
    "    bs_count.append(bachelos_or_higher[bachelos_or_higher[\"Personal Income\"] == i][\"Personal Income\"].count())\n",
    "    hs_count.append(no_hs_degree[no_hs_degree[\"Personal Income\"] == i][\"Personal Income\"].count())\n",
    "\n",
    "# ???\n",
    "\n",
    "plt.barh(incomes, hs_count,  label=\"No High School Diploma\")\n",
    "plt.barh(incomes, bs_count, label=\"Bachlors or higher\")\n",
    "plt.legend()\n",
    "\n",
    "plt.show()"
   ]
  },
  {
   "cell_type": "code",
   "execution_count": null,
   "metadata": {},
   "outputs": [],
   "source": []
  }
 ],
 "metadata": {
  "kernelspec": {
   "display_name": "Python 3.10.8 64-bit (microsoft store)",
   "language": "python",
   "name": "python3"
  },
  "language_info": {
   "codemirror_mode": {
    "name": "ipython",
    "version": 3
   },
   "file_extension": ".py",
   "mimetype": "text/x-python",
   "name": "python",
   "nbconvert_exporter": "python",
   "pygments_lexer": "ipython3",
   "version": "3.10.8"
  },
  "orig_nbformat": 4,
  "vscode": {
   "interpreter": {
    "hash": "602ee1658721f7a19ecc36b132ea7457694c6400b87ba051a8adf84368c56df0"
   }
  }
 },
 "nbformat": 4,
 "nbformat_minor": 2
}
