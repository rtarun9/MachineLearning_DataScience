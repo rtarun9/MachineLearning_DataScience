{
 "cells": [
  {
   "cell_type": "code",
   "execution_count": 11,
   "metadata": {},
   "outputs": [],
   "source": [
    "# A simple two class classification machine learning model (supervised model)."
   ]
  },
  {
   "cell_type": "code",
   "execution_count": 12,
   "metadata": {},
   "outputs": [],
   "source": [
    "import numpy as np\n",
    "import matplotlib.pyplot as plt\n",
    "import seaborn as sb"
   ]
  },
  {
   "cell_type": "code",
   "execution_count": 13,
   "metadata": {},
   "outputs": [],
   "source": [
    "dataset = [[2.7810836,2.550537003,0],\n",
    "[1.465489372,2.362125076,0],\n",
    "[3.396561688,4.400293529,0],\n",
    "[1.38807019,1.850220317,0],\n",
    "[3.06407232,3.005305973,0],\n",
    "[7.627531214,2.759262235,1],\n",
    "[5.332441248,2.088626775,1],\n",
    "[6.922596716,1.77106367,1],\n",
    "[8.675418651,-0.242068655,1],\n",
    "[7.673756466,3.508563011,1]]\n",
    "\n",
    "learning_rate = 0.1\n",
    "epoch = 5"
   ]
  },
  {
   "cell_type": "code",
   "execution_count": 14,
   "metadata": {},
   "outputs": [],
   "source": [
    "# Predict the class according to the weights\n",
    "def predict(row, weights):\n",
    "    act = weights[0] # The threshold or bias\n",
    "    # summation(wi * ri) >= 0 -> class 1, else class 0\n",
    "    for i in range(len(row) - 1):\n",
    "        act += weights[i + 1] * row[i]\n",
    "    if act >= 0.0:\n",
    "        return 1\n",
    "    else:\n",
    "        return 0"
   ]
  },
  {
   "cell_type": "code",
   "execution_count": 15,
   "metadata": {},
   "outputs": [],
   "source": [
    "# Train and calculate weights using stochastic gradient descent.\n",
    "# Can be found be solving a equation of n variables as well.\n",
    "def train_weights(train, learning_rate, epoch):\n",
    "    weights = [0.0 for i in range(len(train[0]))]\n",
    "    for ep in range(epoch):\n",
    "        sum_error = 0.0\n",
    "        for row in train:\n",
    "            pred = predict(row, weights)\n",
    "            error = row[-1] - pred\n",
    "            sum_error += error **2\n",
    "            weights[0] = weights[0] + learning_rate * error\n",
    "            for i in range(len(row) - 1):\n",
    "                weights[i + 1] = weights[i + 1] + learning_rate * error * row[i]\n",
    "\n",
    "    return weights"
   ]
  },
  {
   "cell_type": "code",
   "execution_count": 16,
   "metadata": {},
   "outputs": [],
   "source": [
    "# Not working :(\n",
    "def train_weights_solving_linear_eq(train):\n",
    "    x = []\n",
    "    y = []\n",
    "    for t in train:\n",
    "        x.append(t[0:len(t) - 1])\n",
    "        y.append(t[-1])\n",
    "    \n",
    "    print(x, y)\n",
    "    weights = np.linalg.solve(x,y)\n",
    "    print(weights)\n",
    "    return np.linalg.inv(weights)"
   ]
  },
  {
   "cell_type": "code",
   "execution_count": 17,
   "metadata": {},
   "outputs": [
    {
     "data": {
      "text/plain": [
       "[-0.1, 0.20653640140000007, -0.23418117710000003]"
      ]
     },
     "execution_count": 17,
     "metadata": {},
     "output_type": "execute_result"
    }
   ],
   "source": [
    "weights = train_weights(dataset, learning_rate, epoch)\n",
    "weights"
   ]
  },
  {
   "cell_type": "code",
   "execution_count": 18,
   "metadata": {},
   "outputs": [
    {
     "data": {
      "text/plain": [
       "<matplotlib.collections.PathCollection at 0x2a0b67fb4d0>"
      ]
     },
     "execution_count": 18,
     "metadata": {},
     "output_type": "execute_result"
    },
    {
     "data": {
      "image/png": "[encoded data removed]",
      "text/plain": [
       "<Figure size 640x480 with 1 Axes>"
      ]
     },
     "metadata": {},
     "output_type": "display_data"
    }
   ],
   "source": [
    "x = []\n",
    "y = []\n",
    "\n",
    "_x = []\n",
    "_y = []\n",
    "\n",
    "for t in dataset:\n",
    "    x.append(t[0:len(t) - 1])\n",
    "    y.append(t[-1])\n",
    "    _x.append(t[0])\n",
    "    _y.append(t[1])\n",
    "\n",
    "x = np.array(x)\n",
    "y = np.array(y)\n",
    "plt.scatter(_x, _y)"
   ]
  },
  {
   "cell_type": "code",
   "execution_count": 19,
   "metadata": {},
   "outputs": [
    {
     "data": {
      "image/png": "[encoded data removed]",
      "text/plain": [
       "<Figure size 640x480 with 1 Axes>"
      ]
     },
     "metadata": {},
     "output_type": "display_data"
    },
    {
     "name": "stdout",
     "output_type": "stream",
     "text": [
      "\u001b[1;31mSignature:\u001b[0m\n",
      "\u001b[0mdatasets\u001b[0m\u001b[1;33m.\u001b[0m\u001b[0mmake_blobs\u001b[0m\u001b[1;33m(\u001b[0m\u001b[1;33m\n",
      "\u001b[0m    \u001b[0mn_samples\u001b[0m\u001b[1;33m=\u001b[0m\u001b[1;36m100\u001b[0m\u001b[1;33m,\u001b[0m\u001b[1;33m\n",
      "\u001b[0m    \u001b[0mn_features\u001b[0m\u001b[1;33m=\u001b[0m\u001b[1;36m2\u001b[0m\u001b[1;33m,\u001b[0m\u001b[1;33m\n",
      "\u001b[0m    \u001b[1;33m*\u001b[0m\u001b[1;33m,\u001b[0m\u001b[1;33m\n",
      "\u001b[0m    \u001b[0mcenters\u001b[0m\u001b[1;33m=\u001b[0m\u001b[1;32mNone\u001b[0m\u001b[1;33m,\u001b[0m\u001b[1;33m\n",
      "\u001b[0m    \u001b[0mcluster_std\u001b[0m\u001b[1;33m=\u001b[0m\u001b[1;36m1.0\u001b[0m\u001b[1;33m,\u001b[0m\u001b[1;33m\n",
      "\u001b[0m    \u001b[0mcenter_box\u001b[0m\u001b[1;33m=\u001b[0m\u001b[1;33m(\u001b[0m\u001b[1;33m-\u001b[0m\u001b[1;36m10.0\u001b[0m\u001b[1;33m,\u001b[0m \u001b[1;36m10.0\u001b[0m\u001b[1;33m)\u001b[0m\u001b[1;33m,\u001b[0m\u001b[1;33m\n",
      "\u001b[0m    \u001b[0mshuffle\u001b[0m\u001b[1;33m=\u001b[0m\u001b[1;32mTrue\u001b[0m\u001b[1;33m,\u001b[0m\u001b[1;33m\n",
      "\u001b[0m    \u001b[0mrandom_state\u001b[0m\u001b[1;33m=\u001b[0m\u001b[1;32mNone\u001b[0m\u001b[1;33m,\u001b[0m\u001b[1;33m\n",
      "\u001b[0m    \u001b[0mreturn_centers\u001b[0m\u001b[1;33m=\u001b[0m\u001b[1;32mFalse\u001b[0m\u001b[1;33m,\u001b[0m\u001b[1;33m\n",
      "\u001b[0m\u001b[1;33m)\u001b[0m\u001b[1;33m\u001b[0m\u001b[1;33m\u001b[0m\u001b[0m\n",
      "\u001b[1;31mDocstring:\u001b[0m\n",
      "Generate isotropic Gaussian blobs for clustering.\n",
      "\n",
      "Read more in the :ref:`User Guide <sample_generators>`.\n",
      "\n",
      "Parameters\n",
      "----------\n",
      "n_samples : int or array-like, default=100\n",
      "    If int, it is the total number of points equally divided among\n",
      "    clusters.\n",
      "    If array-like, each element of the sequence indicates\n",
      "    the number of samples per cluster.\n",
      "\n",
      "    .. versionchanged:: v0.20\n",
      "        one can now pass an array-like to the ``n_samples`` parameter\n",
      "\n",
      "n_features : int, default=2\n",
      "    The number of features for each sample.\n",
      "\n",
      "centers : int or ndarray of shape (n_centers, n_features), default=None\n",
      "    The number of centers to generate, or the fixed center locations.\n",
      "    If n_samples is an int and centers is None, 3 centers are generated.\n",
      "    If n_samples is array-like, centers must be\n",
      "    either None or an array of length equal to the length of n_samples.\n",
      "\n",
      "cluster_std : float or array-like of float, default=1.0\n",
      "    The standard deviation of the clusters.\n",
      "\n",
      "center_box : tuple of float (min, max), default=(-10.0, 10.0)\n",
      "    The bounding box for each cluster center when centers are\n",
      "    generated at random.\n",
      "\n",
      "shuffle : bool, default=True\n",
      "    Shuffle the samples.\n",
      "\n",
      "random_state : int, RandomState instance or None, default=None\n",
      "    Determines random number generation for dataset creation. Pass an int\n",
      "    for reproducible output across multiple function calls.\n",
      "    See :term:`Glossary <random_state>`.\n",
      "\n",
      "return_centers : bool, default=False\n",
      "    If True, then return the centers of each cluster.\n",
      "\n",
      "    .. versionadded:: 0.23\n",
      "\n",
      "Returns\n",
      "-------\n",
      "X : ndarray of shape (n_samples, n_features)\n",
      "    The generated samples.\n",
      "\n",
      "y : ndarray of shape (n_samples,)\n",
      "    The integer labels for cluster membership of each sample.\n",
      "\n",
      "centers : ndarray of shape (n_centers, n_features)\n",
      "    The centers of each cluster. Only returned if\n",
      "    ``return_centers=True``.\n",
      "\n",
      "See Also\n",
      "--------\n",
      "make_classification : A more intricate variant.\n",
      "\n",
      "Examples\n",
      "--------\n",
      ">>> from sklearn.datasets import make_blobs\n",
      ">>> X, y = make_blobs(n_samples=10, centers=3, n_features=2,\n",
      "...                   random_state=0)\n",
      ">>> print(X.shape)\n",
      "(10, 2)\n",
      ">>> y\n",
      "array([0, 0, 1, 0, 2, 2, 2, 1, 1, 0])\n",
      ">>> X, y = make_blobs(n_samples=[3, 3, 4], centers=None, n_features=2,\n",
      "...                   random_state=0)\n",
      ">>> print(X.shape)\n",
      "(10, 2)\n",
      ">>> y\n",
      "array([0, 1, 2, 0, 2, 2, 2, 1, 1, 0])\n",
      "\u001b[1;31mFile:\u001b[0m      c:\\users\\tarun\\appdata\\local\\programs\\python\\python311\\lib\\site-packages\\sklearn\\datasets\\_samples_generator.py\n",
      "\u001b[1;31mType:\u001b[0m      function\n"
     ]
    }
   ],
   "source": [
    "from sklearn import datasets\n",
    "x, y = datasets.make_blobs(n_samples=150, n_features=2, centers=2, cluster_std=1.05, random_state=2)\n",
    "\n",
    "plt.plot(x[:,0][y == 0], x[:,1][y == 0], 'r^')\n",
    "plt.plot(x[:,0][y == 1], x[:,1][y == 1], 'bs')\n",
    "\n",
    "datasets.make_blobs?"
   ]
  },
  {
   "cell_type": "code",
   "execution_count": 20,
   "metadata": {},
   "outputs": [
    {
     "name": "stdout",
     "output_type": "stream",
     "text": [
      "[[0.]\n",
      " [0.]\n",
      " [0.]]\n"
     ]
    }
   ],
   "source": [
    "def perceptron(x, y, learning_rate, epoch):\n",
    "    m, n= x.shape\n",
    "    theta = np.zeros((n+1, 1))\n",
    "    print(theta)\n",
    "    n_miss_classified_list = []\n",
    "    for _epc in range(epoch):\n",
    "        n_miss_classified = 0\n",
    "\n",
    "        for idx, x_i in enumerate(x):\n",
    "            x_i = np.insert(x_i, 0, 1).reshape(-1, 1)\n",
    "\n",
    "            y_hat = 0\n",
    "            if np.dot(x_i.T, theta, out=None) > 0.0:\n",
    "                y_hat = 1\n",
    "            else:\n",
    "                y_hat = 0\n",
    "\n",
    "            # np.squeeze : remove axes of length one\n",
    "            # so, np.squeeze([[[0], [1], [2]]]) will give [[0], [1], [2]] etc.\n",
    "            if (np.squeeze(y_hat) - y[idx]) != 0:\n",
    "                theta += learning_rate * ((y[idx] - y_hat) * x_i)\n",
    "\n",
    "                n_miss_classified += 1\n",
    "\n",
    "            n_miss_classified_list.append(n_miss_classified)\n",
    "\n",
    "        return theta, n_miss_classified_list\n",
    "\n",
    "theta, n_miss_classified_list = perceptron(x, y, learning_rate, epoch)"
   ]
  },
  {
   "cell_type": "code",
   "execution_count": 21,
   "metadata": {},
   "outputs": [],
   "source": [
    "def plot_decision_boundary(x, theta):\n",
    "    # y = mx + c\n",
    "    # mx + c -> theta0.x0 + theta1.x1 + theta2.x2\n",
    "    # Solve for m and c\n",
    "    # m = -theta1 / theta2\n",
    "    # c = -theta0 / theta2\n",
    "    m = -theta[1] / theta[2]\n",
    "    c = -theta[0] / theta[2]\n",
    "\n",
    "    x1 = [min(x[:,0]), max(x[:,0])]\n",
    "    x2 = m * x1 + c\n",
    "\n",
    "    plt.plot(x[:,0][y == 0], x[:,1][y == 0], \"r^\")\n",
    "    plt.plot(x[:,0][y == 1], x[:,1][y == 1], \"bs\")\n",
    "    plt.xlabel('feature 1')\n",
    "    plt.ylabel('feature 2')\n",
    "    plt.plot(x1, x2, 'y-')"
   ]
  },
  {
   "cell_type": "code",
   "execution_count": 22,
   "metadata": {},
   "outputs": [
    {
     "data": {
      "image/png": "[encoded data removed]",
      "text/plain": [
       "<Figure size 640x480 with 1 Axes>"
      ]
     },
     "metadata": {},
     "output_type": "display_data"
    }
   ],
   "source": [
    "plot_decision_boundary(x, theta)"
   ]
  },
  {
   "cell_type": "code",
   "execution_count": 23,
   "metadata": {},
   "outputs": [
    {
     "data": {
      "text/plain": [
       "0.9643850862548692"
      ]
     },
     "execution_count": 23,
     "metadata": {},
     "output_type": "execute_result"
    }
   ],
   "source": [
    "# Using scikit learns inbuilt linear classifier\n",
    "from sklearn.datasets import load_digits\n",
    "from sklearn.linear_model import Perceptron\n",
    "x, y = load_digits(return_X_y=True)\n",
    "p_classifier = Perceptron(tol=1e-3, random_state=333)\n",
    "p_classifier.fit(x, y)\n",
    "p_classifier.score(x, y)\n"
   ]
  },
  {
   "cell_type": "code",
   "execution_count": 24,
   "metadata": {},
   "outputs": [
    {
     "name": "stdout",
     "output_type": "stream",
     "text": [
      "Score using wine data set when target feature is quality :  0.6460287679799875\n"
     ]
    }
   ],
   "source": [
    "# Practical application : on the wine data set\n",
    "import pandas as pd\n",
    "df = pd.read_csv('../data_sets/winequality-red.csv')\n",
    "df\n",
    "\n",
    "x = df.iloc[:,0:len(df.quality) - 1,]\n",
    "y = df.quality\n",
    "\n",
    "p_classifier = Perceptron(tol=1e-3, random_state=1)\n",
    "p_classifier.fit(x, y)\n",
    "print(\"Score using wine data set when target feature is quality : \", p_classifier.score(x, y))\n"
   ]
  },
  {
   "cell_type": "code",
   "execution_count": 25,
   "metadata": {},
   "outputs": [],
   "source": [
    "# Using the custom algorithm to classify data\n",
    "\n",
    "# Will not work as each feature would require a perceptron on its own.\n",
    "# perceptron(x, y, learning_rate, epoch)\n"
   ]
  },
  {
   "cell_type": "code",
   "execution_count": 26,
   "metadata": {},
   "outputs": [
    {
     "data": {
      "text/html": [
       "<div>\n",
       "<style scoped>\n",
       "    .dataframe tbody tr th:only-of-type {\n",
       "        vertical-align: middle;\n",
       "    }\n",
       "\n",
       "    .dataframe tbody tr th {\n",
       "        vertical-align: top;\n",
       "    }\n",
       "\n",
       "    .dataframe thead th {\n",
       "        text-align: right;\n",
       "    }\n",
       "</style>\n",
       "<table border=\"1\" class=\"dataframe\">\n",
       "  <thead>\n",
       "    <tr style=\"text-align: right;\">\n",
       "      <th></th>\n",
       "      <th>sepal_length</th>\n",
       "      <th>sepal_width</th>\n",
       "      <th>petal_length</th>\n",
       "      <th>petal_width</th>\n",
       "      <th>species</th>\n",
       "    </tr>\n",
       "  </thead>\n",
       "  <tbody>\n",
       "    <tr>\n",
       "      <th>0</th>\n",
       "      <td>5.1</td>\n",
       "      <td>3.5</td>\n",
       "      <td>1.4</td>\n",
       "      <td>0.2</td>\n",
       "      <td>setosa</td>\n",
       "    </tr>\n",
       "    <tr>\n",
       "      <th>1</th>\n",
       "      <td>4.9</td>\n",
       "      <td>3.0</td>\n",
       "      <td>1.4</td>\n",
       "      <td>0.2</td>\n",
       "      <td>setosa</td>\n",
       "    </tr>\n",
       "    <tr>\n",
       "      <th>2</th>\n",
       "      <td>4.7</td>\n",
       "      <td>3.2</td>\n",
       "      <td>1.3</td>\n",
       "      <td>0.2</td>\n",
       "      <td>setosa</td>\n",
       "    </tr>\n",
       "    <tr>\n",
       "      <th>3</th>\n",
       "      <td>4.6</td>\n",
       "      <td>3.1</td>\n",
       "      <td>1.5</td>\n",
       "      <td>0.2</td>\n",
       "      <td>setosa</td>\n",
       "    </tr>\n",
       "    <tr>\n",
       "      <th>4</th>\n",
       "      <td>5.0</td>\n",
       "      <td>3.6</td>\n",
       "      <td>1.4</td>\n",
       "      <td>0.2</td>\n",
       "      <td>setosa</td>\n",
       "    </tr>\n",
       "    <tr>\n",
       "      <th>...</th>\n",
       "      <td>...</td>\n",
       "      <td>...</td>\n",
       "      <td>...</td>\n",
       "      <td>...</td>\n",
       "      <td>...</td>\n",
       "    </tr>\n",
       "    <tr>\n",
       "      <th>145</th>\n",
       "      <td>6.7</td>\n",
       "      <td>3.0</td>\n",
       "      <td>5.2</td>\n",
       "      <td>2.3</td>\n",
       "      <td>virginica</td>\n",
       "    </tr>\n",
       "    <tr>\n",
       "      <th>146</th>\n",
       "      <td>6.3</td>\n",
       "      <td>2.5</td>\n",
       "      <td>5.0</td>\n",
       "      <td>1.9</td>\n",
       "      <td>virginica</td>\n",
       "    </tr>\n",
       "    <tr>\n",
       "      <th>147</th>\n",
       "      <td>6.5</td>\n",
       "      <td>3.0</td>\n",
       "      <td>5.2</td>\n",
       "      <td>2.0</td>\n",
       "      <td>virginica</td>\n",
       "    </tr>\n",
       "    <tr>\n",
       "      <th>148</th>\n",
       "      <td>6.2</td>\n",
       "      <td>3.4</td>\n",
       "      <td>5.4</td>\n",
       "      <td>2.3</td>\n",
       "      <td>virginica</td>\n",
       "    </tr>\n",
       "    <tr>\n",
       "      <th>149</th>\n",
       "      <td>5.9</td>\n",
       "      <td>3.0</td>\n",
       "      <td>5.1</td>\n",
       "      <td>1.8</td>\n",
       "      <td>virginica</td>\n",
       "    </tr>\n",
       "  </tbody>\n",
       "</table>\n",
       "<p>150 rows × 5 columns</p>\n",
       "</div>"
      ],
      "text/plain": [
       "     sepal_length  sepal_width  petal_length  petal_width    species\n",
       "0             5.1          3.5           1.4          0.2     setosa\n",
       "1             4.9          3.0           1.4          0.2     setosa\n",
       "2             4.7          3.2           1.3          0.2     setosa\n",
       "3             4.6          3.1           1.5          0.2     setosa\n",
       "4             5.0          3.6           1.4          0.2     setosa\n",
       "..            ...          ...           ...          ...        ...\n",
       "145           6.7          3.0           5.2          2.3  virginica\n",
       "146           6.3          2.5           5.0          1.9  virginica\n",
       "147           6.5          3.0           5.2          2.0  virginica\n",
       "148           6.2          3.4           5.4          2.3  virginica\n",
       "149           5.9          3.0           5.1          1.8  virginica\n",
       "\n",
       "[150 rows x 5 columns]"
      ]
     },
     "execution_count": 26,
     "metadata": {},
     "output_type": "execute_result"
    }
   ],
   "source": [
    "# Using the IRIS data set\n",
    "df = sb.load_dataset('iris')\n",
    "df"
   ]
  },
  {
   "cell_type": "code",
   "execution_count": 27,
   "metadata": {},
   "outputs": [
    {
     "name": "stdout",
     "output_type": "stream",
     "text": [
      "Score using perceptron when target feature is species :  0.9133333333333333\n"
     ]
    }
   ],
   "source": [
    "\n",
    "x = df.iloc[:,:3]\n",
    "y = df.species\n",
    "p_classifier = Perceptron(tol=1e-3, random_state=1)\n",
    "p_classifier.fit(x, y)\n",
    "print(\"Score using perceptron when target feature is species : \", p_classifier.score(x, y))"
   ]
  }
 ],
 "metadata": {
  "kernelspec": {
   "display_name": "Python 3 (ipykernel)",
   "language": "python",
   "name": "python3"
  },
  "language_info": {
   "codemirror_mode": {
    "name": "ipython",
    "version": 3
   },
   "file_extension": ".py",
   "mimetype": "text/x-python",
   "name": "python",
   "nbconvert_exporter": "python",
   "pygments_lexer": "ipython3",
   "version": "3.11.0 (main, Oct 24 2022, 18:26:48) [MSC v.1933 64 bit (AMD64)]"
  },
  "vscode": {
   "interpreter": {
    "hash": "2fbd72be344b8c332a0e053e29222c977c1ed4bdf49857a76638547ea4f10abc"
   }
  }
 },
 "nbformat": 4,
 "nbformat_minor": 2
}
