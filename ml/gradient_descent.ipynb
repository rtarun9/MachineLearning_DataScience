{
 "cells": [
  {
   "cell_type": "code",
   "execution_count": 14,
   "metadata": {},
   "outputs": [],
   "source": [
    "import numpy as np\n",
    "import pandas as pd\n",
    "import matplotlib.pyplot as plt\n",
    "from sklearn.linear_model import SGDRegressor\n",
    "\n",
    "sgd_reg = SGDRegressor(learning_rate=\"constant\", max_iter=500, random_state=100)"
   ]
  },
  {
   "cell_type": "code",
   "execution_count": 20,
   "metadata": {},
   "outputs": [
    {
     "name": "stdout",
     "output_type": "stream",
     "text": [
      "[1.94225099] [-1.38881615]\n"
     ]
    }
   ],
   "source": [
    "x = np.array([[1], [2], [3], [4], [5], [6], [7], [8], [9], [10], [11]])\n",
    "\n",
    "y = np.array([2*i for i in range(11)])\n",
    "\n",
    "sgd_reg.fit(x, y)\n",
    "print(sgd_reg.coef_, sgd_reg.intercept_)"
   ]
  },
  {
   "cell_type": "code",
   "execution_count": 8,
   "metadata": {},
   "outputs": [
    {
     "name": "stdout",
     "output_type": "stream",
     "text": [
      "Local minimum -4.336902220526234\n"
     ]
    }
   ],
   "source": [
    "# Manual calculation.\n",
    "\n",
    "# Setup initial parameters:\n",
    "curr_x = 0\n",
    "lr = 0.01\n",
    "max_iter = 100\n",
    "precision =  0.0001\n",
    "previous_step_size = 1\n",
    "\n",
    "# Given eq : y = (x+5)^2\n",
    "\n",
    "def y_from_x(x):\n",
    "    return (x + 5)^2\n",
    "\n",
    "def df(x):\n",
    "    return 2*(x+5)\n",
    "\n",
    "iter = 0\n",
    "while previous_step_size > precision and iter < max_iter:\n",
    "    px = curr_x\n",
    "    curr_x = curr_x - lr * df(px)\n",
    "    previous_step_size = abs(curr_x - px)\n",
    "    iter += 1\n",
    "\n",
    "print(\"Local minimum\", curr_x)"
   ]
  }
 ],
 "metadata": {
  "kernelspec": {
   "display_name": "Python 3.11.0 64-bit",
   "language": "python",
   "name": "python3"
  },
  "language_info": {
   "codemirror_mode": {
    "name": "ipython",
    "version": 3
   },
   "file_extension": ".py",
   "mimetype": "text/x-python",
   "name": "python",
   "nbconvert_exporter": "python",
   "pygments_lexer": "ipython3",
   "version": "3.11.1 (tags/v3.11.1:a7a450f, Dec  6 2022, 19:58:39) [MSC v.1934 64 bit (AMD64)]"
  },
  "orig_nbformat": 4,
  "vscode": {
   "interpreter": {
    "hash": "2fbd72be344b8c332a0e053e29222c977c1ed4bdf49857a76638547ea4f10abc"
   }
  }
 },
 "nbformat": 4,
 "nbformat_minor": 2
}
